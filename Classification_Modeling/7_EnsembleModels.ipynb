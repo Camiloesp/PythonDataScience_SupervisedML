{
 "cells": [
  {
   "cell_type": "code",
   "execution_count": 1,
   "id": "0ba17812-a59d-4f40-8a5c-02a9db63e26b",
   "metadata": {},
   "outputs": [
    {
     "name": "stdout",
     "output_type": "stream",
     "text": [
      "<class 'pandas.core.frame.DataFrame'>\n",
      "RangeIndex: 148670 entries, 0 to 148669\n",
      "Data columns (total 34 columns):\n",
      " #   Column                     Non-Null Count   Dtype  \n",
      "---  ------                     --------------   -----  \n",
      " 0   ID                         148670 non-null  int64  \n",
      " 1   year                       148670 non-null  int64  \n",
      " 2   loan_limit                 145326 non-null  object \n",
      " 3   Gender                     148670 non-null  object \n",
      " 4   approv_in_adv              147762 non-null  object \n",
      " 5   loan_type                  148670 non-null  object \n",
      " 6   loan_purpose               148536 non-null  object \n",
      " 7   Credit_Worthiness          148670 non-null  object \n",
      " 8   open_credit                148670 non-null  object \n",
      " 9   business_or_commercial     148670 non-null  object \n",
      " 10  loan_amount                148670 non-null  int64  \n",
      " 11  rate_of_interest           112231 non-null  float64\n",
      " 12  Interest_rate_spread       112031 non-null  float64\n",
      " 13  Upfront_charges            109028 non-null  float64\n",
      " 14  term                       148629 non-null  float64\n",
      " 15  Neg_ammortization          148549 non-null  object \n",
      " 16  interest_only              148670 non-null  object \n",
      " 17  lump_sum_payment           148670 non-null  object \n",
      " 18  property_value             133572 non-null  float64\n",
      " 19  construction_type          148670 non-null  object \n",
      " 20  occupancy_type             148670 non-null  object \n",
      " 21  Secured_by                 148670 non-null  object \n",
      " 22  total_units                148670 non-null  object \n",
      " 23  income                     139520 non-null  float64\n",
      " 24  credit_type                148670 non-null  object \n",
      " 25  Credit_Score               148670 non-null  int64  \n",
      " 26  co-applicant_credit_type   148670 non-null  object \n",
      " 27  age                        148470 non-null  object \n",
      " 28  submission_of_application  148470 non-null  object \n",
      " 29  LTV                        133572 non-null  float64\n",
      " 30  Region                     148670 non-null  object \n",
      " 31  Security_Type              148670 non-null  object \n",
      " 32  Status                     148670 non-null  int64  \n",
      " 33  dtir1                      124549 non-null  float64\n",
      "dtypes: float64(8), int64(5), object(21)\n",
      "memory usage: 38.6+ MB\n"
     ]
    }
   ],
   "source": [
    "import pandas as pd\n",
    "import numpy as np\n",
    "import seaborn as sns\n",
    "import matplotlib.pyplot as plt\n",
    "\n",
    "loan_df = pd.read_csv('Data/Loan_Default.csv')\n",
    "loan_df.info()"
   ]
  },
  {
   "cell_type": "code",
   "execution_count": 2,
   "id": "f401a12a-ba9e-4053-8784-e888bed008e7",
   "metadata": {},
   "outputs": [
    {
     "data": {
      "text/html": [
       "<div>\n",
       "<style scoped>\n",
       "    .dataframe tbody tr th:only-of-type {\n",
       "        vertical-align: middle;\n",
       "    }\n",
       "\n",
       "    .dataframe tbody tr th {\n",
       "        vertical-align: top;\n",
       "    }\n",
       "\n",
       "    .dataframe thead th {\n",
       "        text-align: right;\n",
       "    }\n",
       "</style>\n",
       "<table border=\"1\" class=\"dataframe\">\n",
       "  <thead>\n",
       "    <tr style=\"text-align: right;\">\n",
       "      <th></th>\n",
       "      <th>loan_limit</th>\n",
       "      <th>Gender</th>\n",
       "      <th>approv_in_adv</th>\n",
       "      <th>loan_type</th>\n",
       "      <th>loan_purpose</th>\n",
       "      <th>Credit_Worthiness</th>\n",
       "      <th>business_or_commercial</th>\n",
       "      <th>loan_amount</th>\n",
       "      <th>rate_of_interest</th>\n",
       "      <th>Interest_rate_spread</th>\n",
       "      <th>...</th>\n",
       "      <th>credit_type</th>\n",
       "      <th>Credit_Score</th>\n",
       "      <th>co-applicant_credit_type</th>\n",
       "      <th>age</th>\n",
       "      <th>submission_of_application</th>\n",
       "      <th>LTV</th>\n",
       "      <th>Region</th>\n",
       "      <th>Status</th>\n",
       "      <th>dtir1</th>\n",
       "      <th>loan_amt_v_income</th>\n",
       "    </tr>\n",
       "  </thead>\n",
       "  <tbody>\n",
       "    <tr>\n",
       "      <th>0</th>\n",
       "      <td>cf</td>\n",
       "      <td>Sex Not Available</td>\n",
       "      <td>nopre</td>\n",
       "      <td>type1</td>\n",
       "      <td>p1</td>\n",
       "      <td>l1</td>\n",
       "      <td>nob/c</td>\n",
       "      <td>116500</td>\n",
       "      <td>4.045476</td>\n",
       "      <td>NaN</td>\n",
       "      <td>...</td>\n",
       "      <td>EXP</td>\n",
       "      <td>758</td>\n",
       "      <td>CIB</td>\n",
       "      <td>25-34</td>\n",
       "      <td>to_inst</td>\n",
       "      <td>98.728814</td>\n",
       "      <td>south</td>\n",
       "      <td>1</td>\n",
       "      <td>45.0</td>\n",
       "      <td>66.954023</td>\n",
       "    </tr>\n",
       "    <tr>\n",
       "      <th>1</th>\n",
       "      <td>cf</td>\n",
       "      <td>Male</td>\n",
       "      <td>nopre</td>\n",
       "      <td>type2</td>\n",
       "      <td>p1</td>\n",
       "      <td>l1</td>\n",
       "      <td>b/c</td>\n",
       "      <td>206500</td>\n",
       "      <td>4.045476</td>\n",
       "      <td>NaN</td>\n",
       "      <td>...</td>\n",
       "      <td>EQUI</td>\n",
       "      <td>552</td>\n",
       "      <td>EXP</td>\n",
       "      <td>55-64</td>\n",
       "      <td>to_inst</td>\n",
       "      <td>NaN</td>\n",
       "      <td>North</td>\n",
       "      <td>1</td>\n",
       "      <td>NaN</td>\n",
       "      <td>41.465863</td>\n",
       "    </tr>\n",
       "    <tr>\n",
       "      <th>2</th>\n",
       "      <td>cf</td>\n",
       "      <td>Male</td>\n",
       "      <td>pre</td>\n",
       "      <td>type1</td>\n",
       "      <td>p1</td>\n",
       "      <td>l1</td>\n",
       "      <td>nob/c</td>\n",
       "      <td>406500</td>\n",
       "      <td>4.560000</td>\n",
       "      <td>0.2000</td>\n",
       "      <td>...</td>\n",
       "      <td>EXP</td>\n",
       "      <td>834</td>\n",
       "      <td>CIB</td>\n",
       "      <td>35-44</td>\n",
       "      <td>to_inst</td>\n",
       "      <td>80.019685</td>\n",
       "      <td>south</td>\n",
       "      <td>0</td>\n",
       "      <td>46.0</td>\n",
       "      <td>42.879747</td>\n",
       "    </tr>\n",
       "    <tr>\n",
       "      <th>3</th>\n",
       "      <td>cf</td>\n",
       "      <td>Male</td>\n",
       "      <td>nopre</td>\n",
       "      <td>type1</td>\n",
       "      <td>p4</td>\n",
       "      <td>l1</td>\n",
       "      <td>nob/c</td>\n",
       "      <td>456500</td>\n",
       "      <td>4.250000</td>\n",
       "      <td>0.6810</td>\n",
       "      <td>...</td>\n",
       "      <td>EXP</td>\n",
       "      <td>587</td>\n",
       "      <td>CIB</td>\n",
       "      <td>45-54</td>\n",
       "      <td>not_inst</td>\n",
       "      <td>69.376900</td>\n",
       "      <td>North</td>\n",
       "      <td>0</td>\n",
       "      <td>42.0</td>\n",
       "      <td>38.425926</td>\n",
       "    </tr>\n",
       "    <tr>\n",
       "      <th>4</th>\n",
       "      <td>cf</td>\n",
       "      <td>Joint</td>\n",
       "      <td>pre</td>\n",
       "      <td>type1</td>\n",
       "      <td>p1</td>\n",
       "      <td>l1</td>\n",
       "      <td>nob/c</td>\n",
       "      <td>696500</td>\n",
       "      <td>4.000000</td>\n",
       "      <td>0.3042</td>\n",
       "      <td>...</td>\n",
       "      <td>CRIF</td>\n",
       "      <td>602</td>\n",
       "      <td>EXP</td>\n",
       "      <td>25-34</td>\n",
       "      <td>not_inst</td>\n",
       "      <td>91.886544</td>\n",
       "      <td>North</td>\n",
       "      <td>0</td>\n",
       "      <td>39.0</td>\n",
       "      <td>66.714559</td>\n",
       "    </tr>\n",
       "  </tbody>\n",
       "</table>\n",
       "<p>5 rows × 29 columns</p>\n",
       "</div>"
      ],
      "text/plain": [
       "  loan_limit             Gender approv_in_adv loan_type loan_purpose  \\\n",
       "0         cf  Sex Not Available         nopre     type1           p1   \n",
       "1         cf               Male         nopre     type2           p1   \n",
       "2         cf               Male           pre     type1           p1   \n",
       "3         cf               Male         nopre     type1           p4   \n",
       "4         cf              Joint           pre     type1           p1   \n",
       "\n",
       "  Credit_Worthiness business_or_commercial  loan_amount  rate_of_interest  \\\n",
       "0                l1                  nob/c       116500          4.045476   \n",
       "1                l1                    b/c       206500          4.045476   \n",
       "2                l1                  nob/c       406500          4.560000   \n",
       "3                l1                  nob/c       456500          4.250000   \n",
       "4                l1                  nob/c       696500          4.000000   \n",
       "\n",
       "   Interest_rate_spread  ...  credit_type  Credit_Score  \\\n",
       "0                   NaN  ...          EXP           758   \n",
       "1                   NaN  ...         EQUI           552   \n",
       "2                0.2000  ...          EXP           834   \n",
       "3                0.6810  ...          EXP           587   \n",
       "4                0.3042  ...         CRIF           602   \n",
       "\n",
       "  co-applicant_credit_type    age submission_of_application        LTV Region  \\\n",
       "0                      CIB  25-34                   to_inst  98.728814  south   \n",
       "1                      EXP  55-64                   to_inst        NaN  North   \n",
       "2                      CIB  35-44                   to_inst  80.019685  south   \n",
       "3                      CIB  45-54                  not_inst  69.376900  North   \n",
       "4                      EXP  25-34                  not_inst  91.886544  North   \n",
       "\n",
       "  Status  dtir1 loan_amt_v_income  \n",
       "0      1   45.0         66.954023  \n",
       "1      1    NaN         41.465863  \n",
       "2      0   46.0         42.879747  \n",
       "3      0   42.0         38.425926  \n",
       "4      0   39.0         66.714559  \n",
       "\n",
       "[5 rows x 29 columns]"
      ]
     },
     "execution_count": 2,
     "metadata": {},
     "output_type": "execute_result"
    }
   ],
   "source": [
    "loan_df[\"income\"] = loan_df[\"income\"].fillna(loan_df[\"income\"].mean())\n",
    "loan_df[\"loan_amount\"] = loan_df[\"loan_amount\"].fillna(loan_df[\"loan_amount\"].mean())\n",
    "loan_df[\"rate_of_interest\"] = loan_df[\"rate_of_interest\"].fillna(loan_df[\"rate_of_interest\"].mean())\n",
    "loan_df[\"approv_in_adv\"] = loan_df[\"approv_in_adv\"].fillna(loan_df[\"approv_in_adv\"].mode())\n",
    "\n",
    "\n",
    "\n",
    "prep_loan_df = loan_df.assign(\n",
    "    total_units = loan_df[\"total_units\"].map({\n",
    "        \"1U\": \"1U\",\n",
    "        \"2U\": \"2U+\",\n",
    "        \"3U\": \"2U+\",\n",
    "        \"4U\": \"2U+\"}),\n",
    "    loan_amt_v_income = loan_df[\"loan_amount\"]/loan_df[\"income\"]\n",
    ").drop([\n",
    "    'year',\n",
    "    'ID',\n",
    "    'open_credit',\n",
    "    'construction_type',\n",
    "    'Security_Type',\n",
    "    'Secured_by'\n",
    "], axis=1)\n",
    "\n",
    "prep_loan_df.head()"
   ]
  },
  {
   "cell_type": "code",
   "execution_count": 3,
   "id": "120c9caf-d140-4e8a-ad52-bf67a3b1ac3d",
   "metadata": {},
   "outputs": [],
   "source": [
    "from sklearn.model_selection import train_test_split\n",
    "\n",
    "features = [\n",
    "    \"loan_amount\", \n",
    "    \"income\", \n",
    "    \"Gender\",\n",
    "    #\"rate_of_interest\",\n",
    "    \"age\",\n",
    "    \"lump_sum_payment\",\n",
    "    \"credit_type\",\n",
    "    \"total_units\",\n",
    "    \"Credit_Worthiness\",\n",
    "    \"Credit_Score\",\n",
    "    \"approv_in_adv\", \n",
    "\n",
    "]\n",
    "\n",
    "X = pd.get_dummies(prep_loan_df[features], drop_first=True)\n",
    "y = prep_loan_df[\"Status\"]\n",
    "\n",
    "X_train, X_test, y_train, y_test = train_test_split(X, y, test_size=.2, random_state=12345)"
   ]
  },
  {
   "cell_type": "markdown",
   "id": "5ffceef7-692a-409d-b94b-7d55148292b5",
   "metadata": {},
   "source": [
    "## Simple Ensemble Models"
   ]
  },
  {
   "cell_type": "code",
   "execution_count": 4,
   "id": "a14058d9-763f-42f6-a6ef-173139c45289",
   "metadata": {},
   "outputs": [],
   "source": [
    "from sklearn.preprocessing import StandardScaler\n",
    "\n",
    "std = StandardScaler()\n",
    "\n",
    "X_train_std = std.fit_transform(X_train)\n",
    "X_test_std = std.transform(X_test)"
   ]
  },
  {
   "cell_type": "code",
   "execution_count": 5,
   "id": "7914d97b-3e32-40f6-a82f-e5a858ae474a",
   "metadata": {},
   "outputs": [
    {
     "name": "stdout",
     "output_type": "stream",
     "text": [
      "Train Accuracy: 0.8611690320844824\n",
      "Test Accuracy: 0.8617743996771373\n"
     ]
    }
   ],
   "source": [
    "from sklearn.neighbors import KNeighborsClassifier\n",
    "\n",
    "knn = KNeighborsClassifier(n_neighbors=49, metric='manhattan')\n",
    "knn.fit(X_train_std, y_train)\n",
    "\n",
    "print(f\"Train Accuracy: {knn.score(X_train_std, y_train)}\")\n",
    "print(f\"Test Accuracy: {knn.score(X_test_std, y_test)}\")"
   ]
  },
  {
   "cell_type": "code",
   "execution_count": 6,
   "id": "d6241cdb-974b-439e-b657-d5fcaaba7b21",
   "metadata": {},
   "outputs": [
    {
     "name": "stdout",
     "output_type": "stream",
     "text": [
      "Train Accuracy: 0.8607402300396853\n",
      "Test Accuracy: 0.86211071500639\n"
     ]
    }
   ],
   "source": [
    "from sklearn.linear_model import LogisticRegression\n",
    "\n",
    "logreg = LogisticRegression(C=0.6, penalty='l1', solver='saga', max_iter=1000)\n",
    "lr = logreg.fit(X_train_std, y_train)\n",
    "\n",
    "print(f\"Train Accuracy: {lr.score(X_train_std, y_train)}\")\n",
    "print(f\"Test Accuracy: {lr.score(X_test_std, y_test)}\")"
   ]
  },
  {
   "cell_type": "code",
   "execution_count": 7,
   "id": "a024348d-30f6-4159-932a-fc5ac3d1f0c4",
   "metadata": {},
   "outputs": [
    {
     "name": "stdout",
     "output_type": "stream",
     "text": [
      "Train Accuracy: 0.869\n",
      "Test Accuracy: 0.867\n"
     ]
    }
   ],
   "source": [
    "from sklearn.tree import DecisionTreeClassifier\n",
    "\n",
    "dt = DecisionTreeClassifier(max_depth=10, min_samples_leaf=10)\n",
    "dt.fit(X_train_std, y_train)\n",
    "\n",
    "print(f\"Train Accuracy: {round(dt.score(X_train_std, y_train), 3)}\")\n",
    "print(f\"Test Accuracy: {round(dt.score(X_test_std, y_test), 3)}\")"
   ]
  },
  {
   "cell_type": "code",
   "execution_count": 8,
   "id": "f63cced7-f954-48f5-aa62-433b0ed74a4b",
   "metadata": {},
   "outputs": [
    {
     "data": {
      "text/plain": [
       "0.8619761888746889"
      ]
     },
     "execution_count": 8,
     "metadata": {},
     "output_type": "execute_result"
    }
   ],
   "source": [
    "from sklearn.ensemble import VotingClassifier\n",
    "\n",
    "model = VotingClassifier(estimators=[\n",
    "    ('lr', lr),\n",
    "    ('dt', dt),\n",
    "    ('knn', knn)\n",
    "], voting='hard')\n",
    "\n",
    "model.fit(X_train_std, y_train)\n",
    "model.score(X_test_std, y_test)"
   ]
  },
  {
   "cell_type": "markdown",
   "id": "b5c2dcb1-24cc-4e77-8350-28a804c13a65",
   "metadata": {},
   "source": [
    "## Random Forest"
   ]
  },
  {
   "cell_type": "code",
   "execution_count": 9,
   "id": "ed1d4232-2f11-462f-9a60-2654720566be",
   "metadata": {},
   "outputs": [
    {
     "name": "stdout",
     "output_type": "stream",
     "text": [
      "Train Accuracy: 0.867323602609807\n",
      "Test Accuracy: 0.8657429205623193\n"
     ]
    }
   ],
   "source": [
    "from sklearn.ensemble import RandomForestClassifier\n",
    "\n",
    "rf = RandomForestClassifier(random_state=2023, max_depth=10)\n",
    "rf.fit(X_train, y_train)\n",
    "\n",
    "print(f\"Train Accuracy: {rf.score(X_train, y_train)}\")\n",
    "print(f\"Test Accuracy: {rf.score(X_test, y_test)}\")"
   ]
  },
  {
   "cell_type": "code",
   "execution_count": 10,
   "id": "87f6c548-bf0c-44f2-8f76-a5d784479362",
   "metadata": {},
   "outputs": [
    {
     "data": {
      "image/png": "[encoded data removed]",
      "text/plain": [
       "<Figure size 640x480 with 1 Axes>"
      ]
     },
     "metadata": {},
     "output_type": "display_data"
    }
   ],
   "source": [
    "import seaborn as sns\n",
    "\n",
    "sns.barplot(x=rf.feature_importances_, y=X.columns, color='blue');"
   ]
  },
  {
   "cell_type": "code",
   "execution_count": 11,
   "id": "32908fb5-2ae8-44f7-883b-7a7c9015d24e",
   "metadata": {},
   "outputs": [
    {
     "name": "stderr",
     "output_type": "stream",
     "text": [
      "C:\\Users\\Camilo\\anaconda3\\Lib\\site-packages\\sklearn\\model_selection\\_validation.py:540: FitFailedWarning: \n",
      "160 fits failed out of a total of 500.\n",
      "The score on these train-test partitions for these parameters will be set to nan.\n",
      "If these failures are not expected, you can try to debug them by setting error_score='raise'.\n",
      "\n",
      "Below are more details about the failures:\n",
      "--------------------------------------------------------------------------------\n",
      "160 fits failed with the following error:\n",
      "Traceback (most recent call last):\n",
      "  File \"C:\\Users\\Camilo\\anaconda3\\Lib\\site-packages\\sklearn\\model_selection\\_validation.py\", line 888, in _fit_and_score\n",
      "    estimator.fit(X_train, y_train, **fit_params)\n",
      "  File \"C:\\Users\\Camilo\\anaconda3\\Lib\\site-packages\\sklearn\\base.py\", line 1473, in wrapper\n",
      "    return fit_method(estimator, *args, **kwargs)\n",
      "           ^^^^^^^^^^^^^^^^^^^^^^^^^^^^^^^^^^^^^^\n",
      "  File \"C:\\Users\\Camilo\\anaconda3\\Lib\\site-packages\\sklearn\\ensemble\\_forest.py\", line 433, in fit\n",
      "    raise ValueError(\n",
      "ValueError: `max_sample` cannot be set if `bootstrap=False`. Either switch to `bootstrap=True` or set `max_sample=None`.\n",
      "\n",
      "  warnings.warn(some_fits_failed_message, FitFailedWarning)\n",
      "C:\\Users\\Camilo\\anaconda3\\Lib\\site-packages\\sklearn\\model_selection\\_search.py:1102: UserWarning: One or more of the test scores are non-finite: [0.8566708         nan 0.86092519 0.86664255 0.86565042        nan\n",
      " 0.75864333        nan 0.86657529        nan 0.86474236        nan\n",
      " 0.86443968 0.86417904        nan 0.86463306 0.85650265 0.86347278\n",
      " 0.85670444 0.86312805 0.75472523 0.76045099        nan 0.85656991\n",
      " 0.85968083 0.86561679        nan        nan 0.86693683 0.86354845\n",
      " 0.85651106 0.86617171        nan 0.85636812 0.86698727 0.86387635\n",
      " 0.8674413  0.86723951 0.75878626 0.86760105 0.85668762 0.86633145\n",
      " 0.86385113        nan 0.86463306        nan 0.86310283 0.86092519\n",
      " 0.86417063 0.86745812        nan 0.86736564        nan        nan\n",
      " 0.7588283         nan 0.86755061        nan        nan 0.75474204\n",
      "        nan 0.86702932        nan 0.86092519        nan 0.8638175\n",
      " 0.75878626        nan 0.8643556  0.86092519 0.86422108        nan\n",
      " 0.86511231 0.86697046 0.86548228 0.8655075         nan 0.8644565\n",
      " 0.85636812 0.86454899 0.86573451        nan 0.86095042 0.86575972\n",
      "        nan 0.86092519        nan        nan 0.86122787 0.86314487\n",
      " 0.85362718        nan        nan        nan 0.76215779 0.86564201\n",
      " 0.7592739  0.8616735  0.86405292        nan]\n",
      "  warnings.warn(\n"
     ]
    },
    {
     "data": {
      "text/plain": [
       "{'n_estimators': 500,\n",
       " 'min_samples_leaf': 2,\n",
       " 'max_samples': 0.9,\n",
       " 'max_features': None,\n",
       " 'max_depth': 10,\n",
       " 'bootstrap': True}"
      ]
     },
     "execution_count": 11,
     "metadata": {},
     "output_type": "execute_result"
    }
   ],
   "source": [
    "# Random Search\n",
    "from sklearn.model_selection import RandomizedSearchCV\n",
    "      \n",
    "rf = RandomForestClassifier(random_state=2023, n_jobs=-1)\n",
    "\n",
    "params = {\n",
    "    'n_estimators': np.arange(start=100, stop=1100, step=100),\n",
    "    'max_features': [None, \"sqrt\"],\n",
    "    'bootstrap': [True, False],\n",
    "    'max_samples': [None, .3, .5, .9],\n",
    "    'max_depth': np.arange(start=1, stop=11, step=1),\n",
    "    'min_samples_leaf': [2, 5, 10, 20, 100],\n",
    "}\n",
    "\n",
    "grid = RandomizedSearchCV(\n",
    "    rf, \n",
    "    params,\n",
    "    n_iter=100,\n",
    "    scoring=\"accuracy\"\n",
    ")\n",
    "\n",
    "grid.fit(X_train, y_train)\n",
    "\n",
    "grid.best_params_"
   ]
  },
  {
   "cell_type": "code",
   "execution_count": 12,
   "id": "7aaf44a8-70f0-4ab6-91ff-c527761d7365",
   "metadata": {},
   "outputs": [
    {
     "data": {
      "text/plain": [
       "{'bootstrap': True,\n",
       " 'max_depth': 9,\n",
       " 'max_features': None,\n",
       " 'max_samples': 0.8,\n",
       " 'min_samples_leaf': 2,\n",
       " 'n_estimators': 160}"
      ]
     },
     "execution_count": 12,
     "metadata": {},
     "output_type": "execute_result"
    }
   ],
   "source": [
    "from sklearn.model_selection import GridSearchCV\n",
    "import numpy as np\n",
    "\n",
    "\n",
    "rf = RandomForestClassifier(random_state=2023, n_jobs=-1)\n",
    "\n",
    "\n",
    "params = {\n",
    "    'n_estimators': np.arange(start=150, stop=250, step=10),\n",
    "    'bootstrap': [True],\n",
    "    'max_features': [None, \"sqrt\"],\n",
    "    'max_samples': [.8, .9, .95],\n",
    "    'max_depth': [9],\n",
    "    'min_samples_leaf': [2, 3, 4]    \n",
    "}\n",
    "\n",
    "grid = GridSearchCV(\n",
    "    rf, \n",
    "    params,\n",
    "    scoring=\"accuracy\"\n",
    ")\n",
    "\n",
    "grid.fit(X_train, y_train)\n",
    "\n",
    "grid.best_params_"
   ]
  },
  {
   "cell_type": "code",
   "execution_count": 13,
   "id": "e8d7dd65-dcfd-4049-9c06-1b708e609a08",
   "metadata": {},
   "outputs": [
    {
     "name": "stdout",
     "output_type": "stream",
     "text": [
      "Training Accuracy: 0.8697030335642698\n",
      "Test Accuracy: 0.8680634963341629\n"
     ]
    }
   ],
   "source": [
    "rf = RandomForestClassifier(random_state=2023, n_jobs=-1, **grid.best_params_)\n",
    "\n",
    "rf.fit(X_train, y_train)\n",
    "\n",
    "print(f\"Training Accuracy: {rf.score(X_train, y_train)}\")\n",
    "print(f\"Test Accuracy: {rf.score(X_test, y_test)}\")"
   ]
  },
  {
   "cell_type": "markdown",
   "id": "1afc2255-9708-44c4-ba2a-d923c2cdd0f4",
   "metadata": {},
   "source": [
    "## Gradient Boosting"
   ]
  },
  {
   "cell_type": "code",
   "execution_count": 14,
   "id": "8226bf29-176b-4afb-b687-c89949c08a64",
   "metadata": {},
   "outputs": [
    {
     "name": "stdout",
     "output_type": "stream",
     "text": [
      "Train Accuracy: 0.8665921167686823\n",
      "Test Accuracy: 0.8667518665500773\n"
     ]
    }
   ],
   "source": [
    "from sklearn.ensemble import GradientBoostingClassifier\n",
    "\n",
    "gbm = GradientBoostingClassifier(random_state=2023)\n",
    "gbm.fit(X_train, y_train)\n",
    "\n",
    "print(f\"Train Accuracy: {gbm.score(X_train, y_train)}\")\n",
    "print(f\"Test Accuracy: {gbm.score(X_test, y_test)}\")"
   ]
  },
  {
   "cell_type": "code",
   "execution_count": 15,
   "id": "ebe945cf-d0a9-4ca9-a6c2-608e8d5968d7",
   "metadata": {},
   "outputs": [
    {
     "data": {
      "image/png": "[encoded data removed]",
      "text/plain": [
       "<Figure size 640x480 with 1 Axes>"
      ]
     },
     "metadata": {},
     "output_type": "display_data"
    }
   ],
   "source": [
    "import seaborn as sns\n",
    "\n",
    "sns.barplot(x=gbm.feature_importances_, y=X.columns, color='blue');"
   ]
  },
  {
   "cell_type": "code",
   "execution_count": null,
   "id": "17f675a1-7cd6-43b8-9996-4b60504c9da5",
   "metadata": {},
   "outputs": [],
   "source": [
    "import numpy as np\n",
    "\n",
    "from sklearn.model_selection import RandomizedSearchCV\n",
    "      \n",
    "gb = GradientBoostingClassifier(random_state=2023)\n",
    "\n",
    "params = {\n",
    "    'n_estimators': [20, 40, 60, 80, 100, 200],\n",
    "    'learning_rate': [.01, .1],\n",
    "    'max_features': [\"sqrt\"],\n",
    "    'subsample': [.8, .9, .95],\n",
    "    'max_depth': np.arange(start=3, stop=12, step=2),\n",
    "    'min_samples_leaf': [2, 5, 10]    \n",
    "}\n",
    "\n",
    "grid = RandomizedSearchCV(\n",
    "    gb, \n",
    "    params,\n",
    "    n_iter=100,\n",
    "    scoring=\"accuracy\"\n",
    ")\n",
    "\n",
    "grid.fit(X_train, y_train)\n",
    "\n",
    "grid.best_params_"
   ]
  },
  {
   "cell_type": "code",
   "execution_count": null,
   "id": "fe34b57a-ef0b-4e3d-9e6a-215f5393d41f",
   "metadata": {},
   "outputs": [],
   "source": [
    "grid.score(X_train, y_train)"
   ]
  },
  {
   "cell_type": "code",
   "execution_count": null,
   "id": "42203bd7-f52e-405f-9318-43559377f00d",
   "metadata": {},
   "outputs": [],
   "source": [
    "grid.score(X_test, y_test)"
   ]
  },
  {
   "cell_type": "code",
   "execution_count": null,
   "id": "8d127d89-ecf7-4b0b-bf90-822b5d1ea3d4",
   "metadata": {},
   "outputs": [],
   "source": [
    "import numpy as np\n",
    "\n",
    "from sklearn.model_selection import GridSearchCV\n",
    "      \n",
    "gb = GradientBoostingClassifier(random_state=2023)\n",
    "\n",
    "params = {\n",
    "    'n_estimators': [50, 60, 70],\n",
    "    'learning_rate': [.1],\n",
    "    'max_features': [\"sqrt\"],\n",
    "    'subsample': [.8],\n",
    "    'max_depth': [9],\n",
    "    'min_samples_leaf': [10]    \n",
    "}\n",
    "\n",
    "grid = GridSearchCV(\n",
    "    gb, \n",
    "    params,\n",
    "    scoring=\"accuracy\"\n",
    ")\n",
    "\n",
    "grid.fit(X_train, y_train)\n",
    "\n",
    "grid.best_params_"
   ]
  },
  {
   "cell_type": "code",
   "execution_count": null,
   "id": "25325e5d-bb88-49c5-bb37-2e964f1f9ee7",
   "metadata": {},
   "outputs": [],
   "source": [
    "from sklearn.ensemble import GradientBoostingClassifier\n",
    "\n",
    "gbm = GradientBoostingClassifier(random_state=2023, **grid.best_params_)\n",
    "\n",
    "gbm.fit(X_train, y_train)\n",
    "\n",
    "print(f\"Training Accuracy: {gbm.score(X_train, y_train)}\")\n",
    "print(f\"Test Accuracy: {gbm.score(X_test, y_test)}\")"
   ]
  },
  {
   "cell_type": "code",
   "execution_count": null,
   "id": "3e431e0c-081f-4d09-8511-caf86acd53a9",
   "metadata": {},
   "outputs": [],
   "source": [
    "from sklearn.metrics import confusion_matrix\n",
    "\n",
    "confusion_matrix(y_test, gbm.predict(X_test))"
   ]
  },
  {
   "cell_type": "code",
   "execution_count": null,
   "id": "3b1e5b95-2155-41a7-8ab8-153dd94d4569",
   "metadata": {},
   "outputs": [],
   "source": [
    "importance_df = (\n",
    "    pd.DataFrame({\"Feature\": X_train.columns, \"Importance\": gbm.feature_importances_})\n",
    "    .sort_values(\"Importance\", ascending=False)\n",
    ")\n",
    "\n",
    "sns.barplot(importance_df, x=\"Importance\", y=\"Feature\" )"
   ]
  },
  {
   "cell_type": "code",
   "execution_count": null,
   "id": "3aa0c8cd-af0d-4089-bf77-86d2f48880fd",
   "metadata": {},
   "outputs": [],
   "source": []
  },
  {
   "cell_type": "code",
   "execution_count": null,
   "id": "b4dde020-432b-45f5-8241-1bc39e1fc65d",
   "metadata": {},
   "outputs": [],
   "source": []
  }
 ],
 "metadata": {
  "kernelspec": {
   "display_name": "Python [conda env:base] *",
   "language": "python",
   "name": "conda-base-py"
  },
  "language_info": {
   "codemirror_mode": {
    "name": "ipython",
    "version": 3
   },
   "file_extension": ".py",
   "mimetype": "text/x-python",
   "name": "python",
   "nbconvert_exporter": "python",
   "pygments_lexer": "ipython3",
   "version": "3.12.7"
  }
 },
 "nbformat": 4,
 "nbformat_minor": 5
}
