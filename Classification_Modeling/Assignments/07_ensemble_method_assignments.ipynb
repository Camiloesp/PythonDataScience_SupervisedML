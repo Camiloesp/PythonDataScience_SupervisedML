{
 "cells": [
  {
   "cell_type": "code",
   "execution_count": 1,
   "id": "ab7317fa",
   "metadata": {},
   "outputs": [
    {
     "data": {
      "text/html": [
       "<div>\n",
       "<style scoped>\n",
       "    .dataframe tbody tr th:only-of-type {\n",
       "        vertical-align: middle;\n",
       "    }\n",
       "\n",
       "    .dataframe tbody tr th {\n",
       "        vertical-align: top;\n",
       "    }\n",
       "\n",
       "    .dataframe thead th {\n",
       "        text-align: right;\n",
       "    }\n",
       "</style>\n",
       "<table border=\"1\" class=\"dataframe\">\n",
       "  <thead>\n",
       "    <tr style=\"text-align: right;\">\n",
       "      <th></th>\n",
       "      <th>age</th>\n",
       "      <th>JobType</th>\n",
       "      <th>EdType</th>\n",
       "      <th>maritalstatus</th>\n",
       "      <th>occupation</th>\n",
       "      <th>relationship</th>\n",
       "      <th>race</th>\n",
       "      <th>gender</th>\n",
       "      <th>capitalgain</th>\n",
       "      <th>capitalloss</th>\n",
       "      <th>hoursperweek</th>\n",
       "      <th>nativecountry</th>\n",
       "      <th>SalStat</th>\n",
       "    </tr>\n",
       "  </thead>\n",
       "  <tbody>\n",
       "    <tr>\n",
       "      <th>0</th>\n",
       "      <td>45</td>\n",
       "      <td>Private</td>\n",
       "      <td>HS-grad</td>\n",
       "      <td>Divorced</td>\n",
       "      <td>Adm-clerical</td>\n",
       "      <td>Not-in-family</td>\n",
       "      <td>White</td>\n",
       "      <td>Female</td>\n",
       "      <td>0</td>\n",
       "      <td>0</td>\n",
       "      <td>28</td>\n",
       "      <td>United-States</td>\n",
       "      <td>less than or equal to 50,000</td>\n",
       "    </tr>\n",
       "    <tr>\n",
       "      <th>1</th>\n",
       "      <td>24</td>\n",
       "      <td>Federal-gov</td>\n",
       "      <td>HS-grad</td>\n",
       "      <td>Never-married</td>\n",
       "      <td>Armed-Forces</td>\n",
       "      <td>Own-child</td>\n",
       "      <td>White</td>\n",
       "      <td>Male</td>\n",
       "      <td>0</td>\n",
       "      <td>0</td>\n",
       "      <td>40</td>\n",
       "      <td>United-States</td>\n",
       "      <td>less than or equal to 50,000</td>\n",
       "    </tr>\n",
       "    <tr>\n",
       "      <th>2</th>\n",
       "      <td>44</td>\n",
       "      <td>Private</td>\n",
       "      <td>Some-college</td>\n",
       "      <td>Married-civ-spouse</td>\n",
       "      <td>Prof-specialty</td>\n",
       "      <td>Husband</td>\n",
       "      <td>White</td>\n",
       "      <td>Male</td>\n",
       "      <td>0</td>\n",
       "      <td>0</td>\n",
       "      <td>40</td>\n",
       "      <td>United-States</td>\n",
       "      <td>greater than 50,000</td>\n",
       "    </tr>\n",
       "    <tr>\n",
       "      <th>3</th>\n",
       "      <td>27</td>\n",
       "      <td>Private</td>\n",
       "      <td>9th</td>\n",
       "      <td>Never-married</td>\n",
       "      <td>Craft-repair</td>\n",
       "      <td>Other-relative</td>\n",
       "      <td>White</td>\n",
       "      <td>Male</td>\n",
       "      <td>0</td>\n",
       "      <td>0</td>\n",
       "      <td>40</td>\n",
       "      <td>Mexico</td>\n",
       "      <td>less than or equal to 50,000</td>\n",
       "    </tr>\n",
       "    <tr>\n",
       "      <th>4</th>\n",
       "      <td>20</td>\n",
       "      <td>Private</td>\n",
       "      <td>Some-college</td>\n",
       "      <td>Never-married</td>\n",
       "      <td>Sales</td>\n",
       "      <td>Not-in-family</td>\n",
       "      <td>White</td>\n",
       "      <td>Male</td>\n",
       "      <td>0</td>\n",
       "      <td>0</td>\n",
       "      <td>35</td>\n",
       "      <td>United-States</td>\n",
       "      <td>less than or equal to 50,000</td>\n",
       "    </tr>\n",
       "  </tbody>\n",
       "</table>\n",
       "</div>"
      ],
      "text/plain": [
       "   age       JobType         EdType        maritalstatus       occupation  \\\n",
       "0   45       Private        HS-grad             Divorced     Adm-clerical   \n",
       "1   24   Federal-gov        HS-grad        Never-married     Armed-Forces   \n",
       "2   44       Private   Some-college   Married-civ-spouse   Prof-specialty   \n",
       "3   27       Private            9th        Never-married     Craft-repair   \n",
       "4   20       Private   Some-college        Never-married            Sales   \n",
       "\n",
       "      relationship    race   gender  capitalgain  capitalloss  hoursperweek  \\\n",
       "0    Not-in-family   White   Female            0            0            28   \n",
       "1        Own-child   White     Male            0            0            40   \n",
       "2          Husband   White     Male            0            0            40   \n",
       "3   Other-relative   White     Male            0            0            40   \n",
       "4    Not-in-family   White     Male            0            0            35   \n",
       "\n",
       "    nativecountry                        SalStat  \n",
       "0   United-States   less than or equal to 50,000  \n",
       "1   United-States   less than or equal to 50,000  \n",
       "2   United-States            greater than 50,000  \n",
       "3          Mexico   less than or equal to 50,000  \n",
       "4   United-States   less than or equal to 50,000  "
      ]
     },
     "execution_count": 1,
     "metadata": {},
     "output_type": "execute_result"
    }
   ],
   "source": [
    "import pandas as pd\n",
    "import numpy as np\n",
    "import seaborn as sns\n",
    "import matplotlib.pyplot as plt\n",
    "\n",
    "income = pd.read_csv(\"../Data/income.csv\")\n",
    "\n",
    "income.head()"
   ]
  },
  {
   "cell_type": "code",
   "execution_count": 2,
   "id": "d6243e8a",
   "metadata": {},
   "outputs": [],
   "source": [
    "def income_model_prep(data):\n",
    "    from sklearn.model_selection import train_test_split\n",
    "    data = pd.get_dummies(\n",
    "        data.assign(\n",
    "            target = np.where(data[\"SalStat\"] == \" less than or equal to 50,000\", 0, 1),\n",
    "            nativecountry = data[\"nativecountry\"].replace({\" Holand-Netherlands\": \" Germany\"}),\n",
    "            occupation = data[\"occupation\"].replace({\" Armed-Forces\": \" ?\"}),\n",
    "            JobType = data[\"JobType\"].replace({\" Never-worked\": \" Without-pay\"}),\n",
    "        ).drop([\"SalStat\", \"nativecountry\", \"race\"], axis=1), \n",
    "        drop_first=True\n",
    "    )\n",
    "    X = data.drop(\"target\", axis=1)\n",
    "    y = data[\"target\"]\n",
    "    X_train, X_test, y_train, y_test = train_test_split(X, y, test_size=0.2, random_state=0)\n",
    "    return X_train, X_test, y_train, y_test\n",
    "\n",
    "\n",
    "X_train, X_test, y_train, y_test = income_model_prep(income)"
   ]
  },
  {
   "cell_type": "markdown",
   "id": "1852fae6",
   "metadata": {},
   "source": [
    "## Assignment 1: Simple Ensemble\n",
    "\n",
    "1. Use the VotingClassifier function to create an ensemble of the three models below.\n",
    "2. Compare the accuracy of using hard vs. soft scores in this ensemble"
   ]
  },
  {
   "cell_type": "code",
   "execution_count": 3,
   "id": "860be108",
   "metadata": {},
   "outputs": [],
   "source": [
    "from sklearn.preprocessing import StandardScaler\n",
    "\n",
    "std = StandardScaler()\n",
    "\n",
    "X_train_std = std.fit_transform(X_train)\n",
    "X_test_std = std.transform(X_test)"
   ]
  },
  {
   "cell_type": "code",
   "execution_count": 4,
   "id": "ac3277ca",
   "metadata": {},
   "outputs": [
    {
     "name": "stdout",
     "output_type": "stream",
     "text": [
      "Train Accuracy: 0.8507153467281683\n",
      "Test Accuracy: 0.8555347091932458\n"
     ]
    }
   ],
   "source": [
    "from sklearn.linear_model import LogisticRegression\n",
    "\n",
    "logreg = LogisticRegression(C=0.1, penalty=\"l2\", solver=\"saga\", max_iter=1000)\n",
    "\n",
    "lr = logreg.fit(X_train_std, y_train)\n",
    "\n",
    "print(f\"Train Accuracy: {lr.score(X_train_std, y_train)}\")\n",
    "print(f\"Test Accuracy: {lr.score(X_test_std, y_test)}\")"
   ]
  },
  {
   "cell_type": "code",
   "execution_count": 5,
   "id": "7a3ef66c",
   "metadata": {},
   "outputs": [
    {
     "name": "stdout",
     "output_type": "stream",
     "text": [
      "Train Accuracy: 0.846532718317567\n",
      "Test Accuracy: 0.8350531582238899\n"
     ]
    }
   ],
   "source": [
    "from sklearn.neighbors import KNeighborsClassifier\n",
    "\n",
    "knn = KNeighborsClassifier(n_neighbors=25)\n",
    "knn.fit(X_train_std, y_train)\n",
    "\n",
    "print(f\"Train Accuracy: {knn.score(X_train_std, y_train)}\")\n",
    "print(f\"Test Accuracy: {knn.score(X_test_std, y_test)}\")"
   ]
  },
  {
   "cell_type": "code",
   "execution_count": 6,
   "id": "22967d09",
   "metadata": {},
   "outputs": [
    {
     "name": "stdout",
     "output_type": "stream",
     "text": [
      "Train Accuracy: 0.8614650926432648\n",
      "Test Accuracy: 0.8610068792995622\n"
     ]
    }
   ],
   "source": [
    "from sklearn.tree import DecisionTreeClassifier\n",
    "\n",
    "dt = DecisionTreeClassifier(criterion='gini', max_depth=10, min_samples_leaf=25)\n",
    "\n",
    "dt.fit(X_train_std, y_train)\n",
    "\n",
    "print(f\"Train Accuracy: {dt.score(X_train_std, y_train)}\")\n",
    "print(f\"Test Accuracy: {dt.score(X_test_std, y_test)}\")"
   ]
  },
  {
   "cell_type": "code",
   "execution_count": 7,
   "id": "f68c220e-98be-46a7-a53f-b6564a4dad98",
   "metadata": {},
   "outputs": [
    {
     "name": "stdout",
     "output_type": "stream",
     "text": [
      "Train Accuracy: 0.8595105933859745\n",
      "Test Accuracy: 0.8591307066916823\n"
     ]
    }
   ],
   "source": [
    "from sklearn.ensemble import VotingClassifier\n",
    "\n",
    "hard_ensemble = VotingClassifier(estimators=[\n",
    "    ('lr', lr),\n",
    "    ('dt', dt),\n",
    "    ('knn', knn)\n",
    "], voting='hard')\n",
    "\n",
    "hard_ensemble.fit(X_train_std, y_train)\n",
    "\n",
    "print(f\"Train Accuracy: {hard_ensemble.score(X_train_std, y_train)}\")\n",
    "print(f\"Test Accuracy: {hard_ensemble.score(X_test_std, y_test)}\")"
   ]
  },
  {
   "cell_type": "code",
   "execution_count": 8,
   "id": "b8b266de-9145-49b5-92a7-b5ca087612d3",
   "metadata": {},
   "outputs": [
    {
     "name": "stdout",
     "output_type": "stream",
     "text": [
      "Train Accuracy: 0.8627941521382222\n",
      "Test Accuracy: 0.8621013133208255\n"
     ]
    }
   ],
   "source": [
    "from sklearn.ensemble import VotingClassifier\n",
    "\n",
    "soft_ensemble = VotingClassifier(estimators=[\n",
    "    ('lr', lr),\n",
    "    ('dt', dt),\n",
    "    ('knn', knn)\n",
    "], voting='soft')\n",
    "\n",
    "soft_ensemble.fit(X_train_std, y_train)\n",
    "\n",
    "print(f\"Train Accuracy: {soft_ensemble.score(X_train_std, y_train)}\")\n",
    "print(f\"Test Accuracy: {soft_ensemble.score(X_test_std, y_test)}\")"
   ]
  },
  {
   "cell_type": "markdown",
   "id": "1f2d7f1c",
   "metadata": {},
   "source": [
    "## Assignment 2: Random Forest\n",
    "\n",
    "1. Fit a Random Forest model using the default hyperparameters. Only set a random state.\n",
    "2. Then, perform hyperparameter tuning for your Random Forest.\n",
    "3. Compare your tuned model's AUC score with your untuned model. "
   ]
  },
  {
   "cell_type": "code",
   "execution_count": 9,
   "id": "16b8c0e1",
   "metadata": {},
   "outputs": [
    {
     "name": "stdout",
     "output_type": "stream",
     "text": [
      "Train Accuracy: 0.973653350011727\n",
      "Test Accuracy: 0.8477173233270794\n"
     ]
    }
   ],
   "source": [
    "from sklearn.ensemble import RandomForestClassifier\n",
    "\n",
    "rf_untuned = RandomForestClassifier(random_state=2023, n_jobs=-10)\n",
    "rf_untuned.fit(X_train, y_train)\n",
    "\n",
    "print(f\"Train Accuracy: {rf_untuned.score(X_train, y_train)}\")\n",
    "print(f\"Test Accuracy: {rf_untuned.score(X_test, y_test)}\")"
   ]
  },
  {
   "cell_type": "code",
   "execution_count": 10,
   "id": "3547758b-822a-4407-89f6-7bea0d50cca3",
   "metadata": {},
   "outputs": [
    {
     "name": "stderr",
     "output_type": "stream",
     "text": [
      "C:\\Users\\Camilo\\anaconda3\\Lib\\site-packages\\sklearn\\model_selection\\_validation.py:540: FitFailedWarning: \n",
      "175 fits failed out of a total of 500.\n",
      "The score on these train-test partitions for these parameters will be set to nan.\n",
      "If these failures are not expected, you can try to debug them by setting error_score='raise'.\n",
      "\n",
      "Below are more details about the failures:\n",
      "--------------------------------------------------------------------------------\n",
      "175 fits failed with the following error:\n",
      "Traceback (most recent call last):\n",
      "  File \"C:\\Users\\Camilo\\anaconda3\\Lib\\site-packages\\sklearn\\model_selection\\_validation.py\", line 888, in _fit_and_score\n",
      "    estimator.fit(X_train, y_train, **fit_params)\n",
      "  File \"C:\\Users\\Camilo\\anaconda3\\Lib\\site-packages\\sklearn\\base.py\", line 1473, in wrapper\n",
      "    return fit_method(estimator, *args, **kwargs)\n",
      "           ^^^^^^^^^^^^^^^^^^^^^^^^^^^^^^^^^^^^^^\n",
      "  File \"C:\\Users\\Camilo\\anaconda3\\Lib\\site-packages\\sklearn\\ensemble\\_forest.py\", line 433, in fit\n",
      "    raise ValueError(\n",
      "ValueError: `max_sample` cannot be set if `bootstrap=False`. Either switch to `bootstrap=True` or set `max_sample=None`.\n",
      "\n",
      "  warnings.warn(some_fits_failed_message, FitFailedWarning)\n",
      "C:\\Users\\Camilo\\anaconda3\\Lib\\site-packages\\sklearn\\model_selection\\_search.py:1102: UserWarning: One or more of the test scores are non-finite: [       nan 0.79704473        nan 0.80247818        nan 0.85454625\n",
      "        nan        nan 0.85696987        nan 0.83081853 0.84934728\n",
      " 0.85329547 0.85247441 0.8432101  0.84915182 0.84532095 0.83668206\n",
      " 0.84649379 0.84899559        nan 0.75842389        nan 0.75842389\n",
      " 0.83363326        nan        nan        nan        nan 0.83332062\n",
      " 0.85759526        nan 0.83457147 0.85978433 0.75842389 0.75842389\n",
      " 0.83484512 0.85646171 0.84813558 0.75842389        nan 0.86072247\n",
      "        nan 0.77648346 0.85024641 0.85638347        nan 0.84852634\n",
      " 0.77421626 0.85251365        nan 0.77386446        nan        nan\n",
      " 0.85626621        nan 0.85560162        nan        nan 0.85521092\n",
      "        nan        nan 0.83132671 0.84551662 0.84688451        nan\n",
      " 0.81838788        nan 0.85427254 0.75842389 0.85802521 0.85677437\n",
      "        nan 0.85810345        nan        nan        nan 0.85755622\n",
      "        nan 0.83367194 0.75842389 0.81760606 0.84911283        nan\n",
      " 0.85802526 0.79806106 0.84457818 0.85802524        nan 0.85708708\n",
      "        nan 0.85567991 0.81580796 0.85782992 0.81752785 0.85098908\n",
      " 0.81189891        nan 0.8571262  0.85763446]\n",
      "  warnings.warn(\n"
     ]
    },
    {
     "data": {
      "text/plain": [
       "{'n_estimators': 200,\n",
       " 'min_samples_leaf': 2,\n",
       " 'max_samples': 0.3,\n",
       " 'max_features': None,\n",
       " 'max_depth': 10,\n",
       " 'bootstrap': True}"
      ]
     },
     "execution_count": 10,
     "metadata": {},
     "output_type": "execute_result"
    }
   ],
   "source": [
    "# Random Search\n",
    "from sklearn.model_selection import RandomizedSearchCV\n",
    "      \n",
    "rf = RandomForestClassifier(random_state=2023, n_jobs=-1)\n",
    "\n",
    "params = {\n",
    "    'n_estimators': np.arange(start=100, stop=1100, step=100),\n",
    "    'max_features': [None, \"sqrt\"],\n",
    "    'bootstrap': [True, False],\n",
    "    'max_samples': [None, .3, .5, .9],\n",
    "    'max_depth': np.arange(start=1, stop=11, step=1),\n",
    "    'min_samples_leaf': [2, 5, 10, 20, 100],\n",
    "}\n",
    "\n",
    "grid = RandomizedSearchCV(\n",
    "    rf, \n",
    "    params,\n",
    "    n_iter=100,\n",
    "    scoring=\"accuracy\"\n",
    ")\n",
    "\n",
    "grid.fit(X_train, y_train)\n",
    "\n",
    "grid.best_params_"
   ]
  },
  {
   "cell_type": "code",
   "execution_count": 11,
   "id": "ba6ba78a-54ce-4d16-8d0c-6cdaafd9598a",
   "metadata": {},
   "outputs": [
    {
     "name": "stdout",
     "output_type": "stream",
     "text": [
      "Train Accuracy: 0.8716284887811743\n",
      "Test Accuracy: 0.8678861788617886\n"
     ]
    }
   ],
   "source": [
    "params = {\n",
    "    'n_estimators': 400,\n",
    "    'min_samples_leaf': 2,\n",
    "    'max_samples': 0.3,\n",
    "    'max_features': None,\n",
    "    'max_depth': 10,\n",
    "    'bootstrap': True,\n",
    "}\n",
    "\n",
    "rf = RandomForestClassifier(random_state=2023, **params)\n",
    "rf.fit(X_train, y_train)\n",
    "\n",
    "print(f\"Train Accuracy: {rf.score(X_train, y_train)}\")\n",
    "print(f\"Test Accuracy: {rf.score(X_test, y_test)}\")"
   ]
  },
  {
   "cell_type": "code",
   "execution_count": 12,
   "id": "9ca52ba7-9d07-4e8b-b5dc-a40cdb66c01c",
   "metadata": {},
   "outputs": [
    {
     "data": {
      "text/plain": [
       "{'bootstrap': True,\n",
       " 'max_depth': 10,\n",
       " 'max_features': None,\n",
       " 'max_samples': 0.25,\n",
       " 'min_samples_leaf': 2,\n",
       " 'n_estimators': 400}"
      ]
     },
     "execution_count": 12,
     "metadata": {},
     "output_type": "execute_result"
    }
   ],
   "source": [
    "from sklearn.model_selection import GridSearchCV\n",
    "import numpy as np\n",
    "\n",
    "\n",
    "rf = RandomForestClassifier(random_state=2023, n_jobs=-1)\n",
    "\n",
    "\n",
    "params = {\n",
    "    'n_estimators': np.arange(start=350, stop=450, step=10),\n",
    "    'bootstrap': [True],\n",
    "    'max_features': [None],\n",
    "    'max_samples': [.25, .3],\n",
    "    'max_depth': [10],\n",
    "    'min_samples_leaf': [2, 3, 4]    \n",
    "}\n",
    "\n",
    "grid = GridSearchCV(\n",
    "    rf, \n",
    "    params,\n",
    "    scoring=\"accuracy\"\n",
    ")\n",
    "\n",
    "grid.fit(X_train, y_train)\n",
    "\n",
    "grid.best_params_"
   ]
  },
  {
   "cell_type": "code",
   "execution_count": 13,
   "id": "ab135761-25cd-4efa-bd93-737080562b19",
   "metadata": {},
   "outputs": [
    {
     "name": "stdout",
     "output_type": "stream",
     "text": [
      "Training Accuracy: 0.8702994292862168\n",
      "Test Accuracy: 0.8674171357098186\n"
     ]
    }
   ],
   "source": [
    "rf = RandomForestClassifier(random_state=2023, n_jobs=-1, **grid.best_params_)\n",
    "\n",
    "rf.fit(X_train, y_train)\n",
    "\n",
    "print(f\"Training Accuracy: {rf.score(X_train, y_train)}\")\n",
    "print(f\"Test Accuracy: {rf.score(X_test, y_test)}\")"
   ]
  },
  {
   "cell_type": "code",
   "execution_count": 14,
   "id": "65f0a758-e5b5-460d-8cd0-84026f646127",
   "metadata": {},
   "outputs": [
    {
     "data": {
      "image/png": "[encoded data removed]",
      "text/plain": [
       "<Figure size 640x480 with 1 Axes>"
      ]
     },
     "metadata": {},
     "output_type": "display_data"
    }
   ],
   "source": [
    "from sklearn.metrics import roc_curve, auc\n",
    "import matplotlib.pyplot as plt\n",
    "\n",
    "# Generate ROC AUC for untuned model\n",
    "y_probs = rf_untuned.predict_proba(X_train)[:,1]\n",
    "fpr1, tpr1, thresholds = roc_curve(y_train, y_probs)\n",
    "auc_score1 = auc(fpr1, tpr1)\n",
    "\n",
    "# Generate ROC AUC for tuned model\n",
    "y_probs = rf.predict_proba(X_train)[:,1]\n",
    "fpr2, tpr2, thresholds = roc_curve(y_train, y_probs)\n",
    "auc_score2 = auc(fpr2, tpr2)\n",
    "\n",
    "# Plot the ROC curve\n",
    "plt.plot(fpr1, tpr1, label=f'Untuned RF (AUC = {auc_score1:.2f})')\n",
    "plt.plot(fpr2, tpr2, label=f'Tuned RF (AUC = {auc_score2:.2f})')\n",
    "\n",
    "# Draw random guess\n",
    "plt.plot([0,1], [0,1], 'k--', label='Random Guess (AUC = 0.50)')\n",
    "\n",
    "# Modify Formatting\n",
    "plt.xlabel('False Positive Rate')\n",
    "plt.ylabel('True Positive Rate')\n",
    "plt.title('ROC Curves for Different Models')\n",
    "plt.legend()\n",
    "plt.show()"
   ]
  },
  {
   "cell_type": "code",
   "execution_count": null,
   "id": "f784d27c-0a41-4e52-9e54-58c838c7f487",
   "metadata": {},
   "outputs": [],
   "source": []
  },
  {
   "cell_type": "code",
   "execution_count": null,
   "id": "1b2726a8-90f9-465b-abe8-15c76521e89f",
   "metadata": {},
   "outputs": [],
   "source": []
  },
  {
   "cell_type": "markdown",
   "id": "026d9c7d",
   "metadata": {},
   "source": [
    "## Assignment 3: Gradient Boosting\n",
    "\n",
    "1. Fit and Tune a GBM\n",
    "2. Plot Feature Importance for your Tuned GBM - could we remove any features?\n",
    "2. Plot the tuned GBM ROC curve vs your tuned Random Forest model and report AUC for each"
   ]
  },
  {
   "cell_type": "code",
   "execution_count": null,
   "id": "26369da5",
   "metadata": {},
   "outputs": [],
   "source": [
    "from sklearn.ensemble import GradientBoostingClassifier\n",
    "\n",
    "gb = GradientBoostingClassifier(random_state=2023)\n",
    "\n",
    "params = {\n",
    "    'n_estimators': np.arange(start=100, stop=1100, step=100),\n",
    "    'learning_rate': [.001, .01, .1, .2],\n",
    "    'max_features': [None, \"sqrt\"],\n",
    "    'subsample': [.8, .9, 1.0],\n",
    "    'max_depth': np.arange(start=3, stop=12, step=2),\n",
    "    'min_samples_leaf': [2, 5, 10]    \n",
    "}\n",
    "\n",
    "grid = RandomizedSearchCV(\n",
    "    gb, \n",
    "    params,\n",
    "    n_iter=100,\n",
    "    scoring=\"accuracy\"\n",
    ")\n",
    "\n",
    "grid.fit(X_train, y_train)\n",
    "\n",
    "grid.best_params_"
   ]
  },
  {
   "cell_type": "code",
   "execution_count": null,
   "id": "cbf69773-84b8-40b5-ba2f-a0235b6352be",
   "metadata": {},
   "outputs": [],
   "source": [
    "grid.score(X_test, y_test)"
   ]
  },
  {
   "cell_type": "code",
   "execution_count": null,
   "id": "619b9ea4-841c-485e-be27-0ede8e2ee75f",
   "metadata": {},
   "outputs": [],
   "source": [
    "params = {\n",
    "    'n_estimators': np.arange(start=950, stop=1101, step=25),\n",
    "    'learning_rate': [.001, .01, .1, .2],\n",
    "    'max_features': [None],\n",
    "    'subsample': [.8],\n",
    "    'max_depth': [7],\n",
    "    'min_samples_leaf': [2, 5, 10, 20]    \n",
    "}\n",
    "\n",
    "grid = GridSearchCV(\n",
    "    gb, \n",
    "    params,\n",
    "    scoring=\"accuracy\"\n",
    ")\n",
    "\n",
    "grid.fit(X_train, y_train)\n",
    "\n",
    "grid.best_params_"
   ]
  },
  {
   "cell_type": "code",
   "execution_count": null,
   "id": "2069772a-1d43-4c7a-be56-67376d972a15",
   "metadata": {},
   "outputs": [],
   "source": [
    "grid.score(X_train, y_train)"
   ]
  },
  {
   "cell_type": "code",
   "execution_count": null,
   "id": "ad513771-bdf4-45f3-9bdd-048f0c7f14e4",
   "metadata": {},
   "outputs": [],
   "source": [
    "grid.score(X_test, y_test)"
   ]
  },
  {
   "cell_type": "code",
   "execution_count": null,
   "id": "dc99fb0c-d87d-4476-916d-c561dcca3730",
   "metadata": {},
   "outputs": [],
   "source": [
    "gb_tuned = GradientBoostingClassifier(random_state=2023, **grid.best_params_)\n",
    "\n",
    "gb_tuned.fit(X_train, y_train)\n",
    "\n",
    "print(f\"Training Accuracy: {gb_tuned.score(X_train, y_train)}\")\n",
    "print(f\"Test Accuracy: {gb_tuned.score(X_test, y_test)}\")"
   ]
  },
  {
   "cell_type": "code",
   "execution_count": null,
   "id": "4bbbdd06-ade6-4590-9b21-6791db841ce4",
   "metadata": {},
   "outputs": [],
   "source": [
    "importance = pd.DataFrame(\n",
    "    {\"feature\": X_train.columns, \n",
    "     \"importance\": gb_tuned.feature_importances_}\n",
    ").sort_values(\"importance\", ascending=False).iloc[:20]\n",
    "\n",
    "sns.barplot(importance, x=\"importance\", y=\"feature\")"
   ]
  },
  {
   "cell_type": "code",
   "execution_count": null,
   "id": "8967b7ed-c15f-468b-a6a4-7304f86c58e4",
   "metadata": {},
   "outputs": [],
   "source": [
    "# Dropped Race, Native Country, \n",
    "gb_tuned = GradientBoostingClassifier(random_state=2023, **grid.best_params_)\n",
    "\n",
    "gb_tuned.fit(X_train, y_train)\n",
    "\n",
    "print(f\"Training Accuracy: {gb_tuned.score(X_train, y_train)}\")\n",
    "print(f\"Test Accuracy: {gb_tuned.score(X_test, y_test)}\")"
   ]
  },
  {
   "cell_type": "code",
   "execution_count": null,
   "id": "2e8dbae5-21b7-4b91-86b4-92061bbce644",
   "metadata": {},
   "outputs": [],
   "source": [
    "from sklearn.metrics import roc_curve, auc\n",
    "    import matplotlib.pyplot as plt\n",
    "    \n",
    "# Generate ROC AUC for random forest\n",
    "y_probs = rf.predict_proba(X_test)[:, 1]\n",
    "fpr1, tpr1, thresholds = roc_curve(y_test, y_probs)\n",
    "auc_score1 = auc(fpr1, tpr1)\n",
    "\n",
    "# Generate ROC AUC for gbm\n",
    "y_probs = gb_tuned.predict_proba(X_test)[:, 1]\n",
    "fpr2, tpr2, thresholds = roc_curve(y_test, y_probs)\n",
    "auc_score2 = auc(fpr2, tpr2)\n",
    "\n",
    "# Plot the ROC curve\n",
    "plt.plot(fpr1, tpr1, label=f'Tuned RF (AUC = {auc_score1:.2f})')\n",
    "plt.plot(fpr2, tpr2, label=f'Tuned GBM (AUC = {auc_score2:.2f})')\n",
    "\n",
    "# Draw Random Guess\n",
    "plt.plot([0, 1], [0, 1], 'k--', label='Random Guess (AUC = 0.50)')\n",
    "\n",
    "# Modify Formatting\n",
    "plt.xlabel('False Positive Rate')\n",
    "plt.ylabel('True Positive Rate')\n",
    "plt.title('ROC Curves for Different Models')\n",
    "plt.legend()\n",
    "plt.show()"
   ]
  },
  {
   "cell_type": "code",
   "execution_count": null,
   "id": "116e65dd-868b-4194-8263-0f3484a5b5b6",
   "metadata": {},
   "outputs": [],
   "source": []
  },
  {
   "cell_type": "code",
   "execution_count": null,
   "id": "4b207f39-bdf4-481a-82cb-ca28e357d21f",
   "metadata": {},
   "outputs": [],
   "source": []
  }
 ],
 "metadata": {
  "kernelspec": {
   "display_name": "Python [conda env:base] *",
   "language": "python",
   "name": "conda-base-py"
  },
  "language_info": {
   "codemirror_mode": {
    "name": "ipython",
    "version": 3
   },
   "file_extension": ".py",
   "mimetype": "text/x-python",
   "name": "python",
   "nbconvert_exporter": "python",
   "pygments_lexer": "ipython3",
   "version": "3.12.7"
  }
 },
 "nbformat": 4,
 "nbformat_minor": 5
}
