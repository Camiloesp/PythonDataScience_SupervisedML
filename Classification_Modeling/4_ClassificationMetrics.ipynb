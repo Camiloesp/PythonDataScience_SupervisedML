{
 "cells": [
  {
   "cell_type": "code",
   "execution_count": 1,
   "id": "fc9e1543-6852-4499-b978-844780d64e7b",
   "metadata": {},
   "outputs": [
    {
     "data": {
      "text/html": [
       "<div>\n",
       "<style scoped>\n",
       "    .dataframe tbody tr th:only-of-type {\n",
       "        vertical-align: middle;\n",
       "    }\n",
       "\n",
       "    .dataframe tbody tr th {\n",
       "        vertical-align: top;\n",
       "    }\n",
       "\n",
       "    .dataframe thead th {\n",
       "        text-align: right;\n",
       "    }\n",
       "</style>\n",
       "<table border=\"1\" class=\"dataframe\">\n",
       "  <thead>\n",
       "    <tr style=\"text-align: right;\">\n",
       "      <th></th>\n",
       "      <th>ID</th>\n",
       "      <th>year</th>\n",
       "      <th>loan_limit</th>\n",
       "      <th>Gender</th>\n",
       "      <th>approv_in_adv</th>\n",
       "      <th>loan_type</th>\n",
       "      <th>loan_purpose</th>\n",
       "      <th>Credit_Worthiness</th>\n",
       "      <th>open_credit</th>\n",
       "      <th>business_or_commercial</th>\n",
       "      <th>...</th>\n",
       "      <th>credit_type</th>\n",
       "      <th>Credit_Score</th>\n",
       "      <th>co-applicant_credit_type</th>\n",
       "      <th>age</th>\n",
       "      <th>submission_of_application</th>\n",
       "      <th>LTV</th>\n",
       "      <th>Region</th>\n",
       "      <th>Security_Type</th>\n",
       "      <th>Status</th>\n",
       "      <th>dtir1</th>\n",
       "    </tr>\n",
       "  </thead>\n",
       "  <tbody>\n",
       "    <tr>\n",
       "      <th>0</th>\n",
       "      <td>24890</td>\n",
       "      <td>2019</td>\n",
       "      <td>cf</td>\n",
       "      <td>Sex Not Available</td>\n",
       "      <td>nopre</td>\n",
       "      <td>type1</td>\n",
       "      <td>p1</td>\n",
       "      <td>l1</td>\n",
       "      <td>nopc</td>\n",
       "      <td>nob/c</td>\n",
       "      <td>...</td>\n",
       "      <td>EXP</td>\n",
       "      <td>758</td>\n",
       "      <td>CIB</td>\n",
       "      <td>25-34</td>\n",
       "      <td>to_inst</td>\n",
       "      <td>98.728814</td>\n",
       "      <td>south</td>\n",
       "      <td>direct</td>\n",
       "      <td>1</td>\n",
       "      <td>45.0</td>\n",
       "    </tr>\n",
       "    <tr>\n",
       "      <th>1</th>\n",
       "      <td>24891</td>\n",
       "      <td>2019</td>\n",
       "      <td>cf</td>\n",
       "      <td>Male</td>\n",
       "      <td>nopre</td>\n",
       "      <td>type2</td>\n",
       "      <td>p1</td>\n",
       "      <td>l1</td>\n",
       "      <td>nopc</td>\n",
       "      <td>b/c</td>\n",
       "      <td>...</td>\n",
       "      <td>EQUI</td>\n",
       "      <td>552</td>\n",
       "      <td>EXP</td>\n",
       "      <td>55-64</td>\n",
       "      <td>to_inst</td>\n",
       "      <td>NaN</td>\n",
       "      <td>North</td>\n",
       "      <td>direct</td>\n",
       "      <td>1</td>\n",
       "      <td>NaN</td>\n",
       "    </tr>\n",
       "    <tr>\n",
       "      <th>2</th>\n",
       "      <td>24892</td>\n",
       "      <td>2019</td>\n",
       "      <td>cf</td>\n",
       "      <td>Male</td>\n",
       "      <td>pre</td>\n",
       "      <td>type1</td>\n",
       "      <td>p1</td>\n",
       "      <td>l1</td>\n",
       "      <td>nopc</td>\n",
       "      <td>nob/c</td>\n",
       "      <td>...</td>\n",
       "      <td>EXP</td>\n",
       "      <td>834</td>\n",
       "      <td>CIB</td>\n",
       "      <td>35-44</td>\n",
       "      <td>to_inst</td>\n",
       "      <td>80.019685</td>\n",
       "      <td>south</td>\n",
       "      <td>direct</td>\n",
       "      <td>0</td>\n",
       "      <td>46.0</td>\n",
       "    </tr>\n",
       "    <tr>\n",
       "      <th>3</th>\n",
       "      <td>24893</td>\n",
       "      <td>2019</td>\n",
       "      <td>cf</td>\n",
       "      <td>Male</td>\n",
       "      <td>nopre</td>\n",
       "      <td>type1</td>\n",
       "      <td>p4</td>\n",
       "      <td>l1</td>\n",
       "      <td>nopc</td>\n",
       "      <td>nob/c</td>\n",
       "      <td>...</td>\n",
       "      <td>EXP</td>\n",
       "      <td>587</td>\n",
       "      <td>CIB</td>\n",
       "      <td>45-54</td>\n",
       "      <td>not_inst</td>\n",
       "      <td>69.376900</td>\n",
       "      <td>North</td>\n",
       "      <td>direct</td>\n",
       "      <td>0</td>\n",
       "      <td>42.0</td>\n",
       "    </tr>\n",
       "    <tr>\n",
       "      <th>4</th>\n",
       "      <td>24894</td>\n",
       "      <td>2019</td>\n",
       "      <td>cf</td>\n",
       "      <td>Joint</td>\n",
       "      <td>pre</td>\n",
       "      <td>type1</td>\n",
       "      <td>p1</td>\n",
       "      <td>l1</td>\n",
       "      <td>nopc</td>\n",
       "      <td>nob/c</td>\n",
       "      <td>...</td>\n",
       "      <td>CRIF</td>\n",
       "      <td>602</td>\n",
       "      <td>EXP</td>\n",
       "      <td>25-34</td>\n",
       "      <td>not_inst</td>\n",
       "      <td>91.886544</td>\n",
       "      <td>North</td>\n",
       "      <td>direct</td>\n",
       "      <td>0</td>\n",
       "      <td>39.0</td>\n",
       "    </tr>\n",
       "  </tbody>\n",
       "</table>\n",
       "<p>5 rows × 34 columns</p>\n",
       "</div>"
      ],
      "text/plain": [
       "      ID  year loan_limit             Gender approv_in_adv loan_type  \\\n",
       "0  24890  2019         cf  Sex Not Available         nopre     type1   \n",
       "1  24891  2019         cf               Male         nopre     type2   \n",
       "2  24892  2019         cf               Male           pre     type1   \n",
       "3  24893  2019         cf               Male         nopre     type1   \n",
       "4  24894  2019         cf              Joint           pre     type1   \n",
       "\n",
       "  loan_purpose Credit_Worthiness open_credit business_or_commercial  ...  \\\n",
       "0           p1                l1        nopc                  nob/c  ...   \n",
       "1           p1                l1        nopc                    b/c  ...   \n",
       "2           p1                l1        nopc                  nob/c  ...   \n",
       "3           p4                l1        nopc                  nob/c  ...   \n",
       "4           p1                l1        nopc                  nob/c  ...   \n",
       "\n",
       "   credit_type  Credit_Score  co-applicant_credit_type    age  \\\n",
       "0          EXP           758                       CIB  25-34   \n",
       "1         EQUI           552                       EXP  55-64   \n",
       "2          EXP           834                       CIB  35-44   \n",
       "3          EXP           587                       CIB  45-54   \n",
       "4         CRIF           602                       EXP  25-34   \n",
       "\n",
       "   submission_of_application        LTV Region Security_Type  Status dtir1  \n",
       "0                    to_inst  98.728814  south        direct       1  45.0  \n",
       "1                    to_inst        NaN  North        direct       1   NaN  \n",
       "2                    to_inst  80.019685  south        direct       0  46.0  \n",
       "3                   not_inst  69.376900  North        direct       0  42.0  \n",
       "4                   not_inst  91.886544  North        direct       0  39.0  \n",
       "\n",
       "[5 rows x 34 columns]"
      ]
     },
     "execution_count": 1,
     "metadata": {},
     "output_type": "execute_result"
    }
   ],
   "source": [
    "import pandas as pd\n",
    "import numpy as np\n",
    "import seaborn as sns\n",
    "import matplotlib.pyplot as plt\n",
    "\n",
    "loan_df = pd.read_csv('Data/Loan_Default.csv')\n",
    "loan_df.head()"
   ]
  },
  {
   "cell_type": "code",
   "execution_count": 2,
   "id": "245163d9-0b7d-4985-97cb-7ee7a6f300b4",
   "metadata": {},
   "outputs": [
    {
     "data": {
      "text/html": [
       "<div>\n",
       "<style scoped>\n",
       "    .dataframe tbody tr th:only-of-type {\n",
       "        vertical-align: middle;\n",
       "    }\n",
       "\n",
       "    .dataframe tbody tr th {\n",
       "        vertical-align: top;\n",
       "    }\n",
       "\n",
       "    .dataframe thead th {\n",
       "        text-align: right;\n",
       "    }\n",
       "</style>\n",
       "<table border=\"1\" class=\"dataframe\">\n",
       "  <thead>\n",
       "    <tr style=\"text-align: right;\">\n",
       "      <th></th>\n",
       "      <th>ID</th>\n",
       "      <th>year</th>\n",
       "      <th>loan_limit</th>\n",
       "      <th>Gender</th>\n",
       "      <th>approv_in_adv</th>\n",
       "      <th>loan_type</th>\n",
       "      <th>loan_purpose</th>\n",
       "      <th>Credit_Worthiness</th>\n",
       "      <th>open_credit</th>\n",
       "      <th>business_or_commercial</th>\n",
       "      <th>...</th>\n",
       "      <th>Credit_Score</th>\n",
       "      <th>co-applicant_credit_type</th>\n",
       "      <th>age</th>\n",
       "      <th>submission_of_application</th>\n",
       "      <th>LTV</th>\n",
       "      <th>Region</th>\n",
       "      <th>Security_Type</th>\n",
       "      <th>Status</th>\n",
       "      <th>dtir1</th>\n",
       "      <th>loan_amt_v_income</th>\n",
       "    </tr>\n",
       "  </thead>\n",
       "  <tbody>\n",
       "    <tr>\n",
       "      <th>0</th>\n",
       "      <td>24890</td>\n",
       "      <td>2019</td>\n",
       "      <td>cf</td>\n",
       "      <td>Sex Not Available</td>\n",
       "      <td>nopre</td>\n",
       "      <td>type1</td>\n",
       "      <td>p1</td>\n",
       "      <td>l1</td>\n",
       "      <td>nopc</td>\n",
       "      <td>nob/c</td>\n",
       "      <td>...</td>\n",
       "      <td>758</td>\n",
       "      <td>CIB</td>\n",
       "      <td>25-34</td>\n",
       "      <td>to_inst</td>\n",
       "      <td>98.728814</td>\n",
       "      <td>south</td>\n",
       "      <td>direct</td>\n",
       "      <td>1</td>\n",
       "      <td>45.0</td>\n",
       "      <td>66.954023</td>\n",
       "    </tr>\n",
       "    <tr>\n",
       "      <th>1</th>\n",
       "      <td>24891</td>\n",
       "      <td>2019</td>\n",
       "      <td>cf</td>\n",
       "      <td>Male</td>\n",
       "      <td>nopre</td>\n",
       "      <td>type2</td>\n",
       "      <td>p1</td>\n",
       "      <td>l1</td>\n",
       "      <td>nopc</td>\n",
       "      <td>b/c</td>\n",
       "      <td>...</td>\n",
       "      <td>552</td>\n",
       "      <td>EXP</td>\n",
       "      <td>55-64</td>\n",
       "      <td>to_inst</td>\n",
       "      <td>NaN</td>\n",
       "      <td>North</td>\n",
       "      <td>direct</td>\n",
       "      <td>1</td>\n",
       "      <td>NaN</td>\n",
       "      <td>41.465863</td>\n",
       "    </tr>\n",
       "    <tr>\n",
       "      <th>2</th>\n",
       "      <td>24892</td>\n",
       "      <td>2019</td>\n",
       "      <td>cf</td>\n",
       "      <td>Male</td>\n",
       "      <td>pre</td>\n",
       "      <td>type1</td>\n",
       "      <td>p1</td>\n",
       "      <td>l1</td>\n",
       "      <td>nopc</td>\n",
       "      <td>nob/c</td>\n",
       "      <td>...</td>\n",
       "      <td>834</td>\n",
       "      <td>CIB</td>\n",
       "      <td>35-44</td>\n",
       "      <td>to_inst</td>\n",
       "      <td>80.019685</td>\n",
       "      <td>south</td>\n",
       "      <td>direct</td>\n",
       "      <td>0</td>\n",
       "      <td>46.0</td>\n",
       "      <td>42.879747</td>\n",
       "    </tr>\n",
       "    <tr>\n",
       "      <th>3</th>\n",
       "      <td>24893</td>\n",
       "      <td>2019</td>\n",
       "      <td>cf</td>\n",
       "      <td>Male</td>\n",
       "      <td>nopre</td>\n",
       "      <td>type1</td>\n",
       "      <td>p4</td>\n",
       "      <td>l1</td>\n",
       "      <td>nopc</td>\n",
       "      <td>nob/c</td>\n",
       "      <td>...</td>\n",
       "      <td>587</td>\n",
       "      <td>CIB</td>\n",
       "      <td>45-54</td>\n",
       "      <td>not_inst</td>\n",
       "      <td>69.376900</td>\n",
       "      <td>North</td>\n",
       "      <td>direct</td>\n",
       "      <td>0</td>\n",
       "      <td>42.0</td>\n",
       "      <td>38.425926</td>\n",
       "    </tr>\n",
       "    <tr>\n",
       "      <th>4</th>\n",
       "      <td>24894</td>\n",
       "      <td>2019</td>\n",
       "      <td>cf</td>\n",
       "      <td>Joint</td>\n",
       "      <td>pre</td>\n",
       "      <td>type1</td>\n",
       "      <td>p1</td>\n",
       "      <td>l1</td>\n",
       "      <td>nopc</td>\n",
       "      <td>nob/c</td>\n",
       "      <td>...</td>\n",
       "      <td>602</td>\n",
       "      <td>EXP</td>\n",
       "      <td>25-34</td>\n",
       "      <td>not_inst</td>\n",
       "      <td>91.886544</td>\n",
       "      <td>North</td>\n",
       "      <td>direct</td>\n",
       "      <td>0</td>\n",
       "      <td>39.0</td>\n",
       "      <td>66.714559</td>\n",
       "    </tr>\n",
       "  </tbody>\n",
       "</table>\n",
       "<p>5 rows × 35 columns</p>\n",
       "</div>"
      ],
      "text/plain": [
       "      ID  year loan_limit             Gender approv_in_adv loan_type  \\\n",
       "0  24890  2019         cf  Sex Not Available         nopre     type1   \n",
       "1  24891  2019         cf               Male         nopre     type2   \n",
       "2  24892  2019         cf               Male           pre     type1   \n",
       "3  24893  2019         cf               Male         nopre     type1   \n",
       "4  24894  2019         cf              Joint           pre     type1   \n",
       "\n",
       "  loan_purpose Credit_Worthiness open_credit business_or_commercial  ...  \\\n",
       "0           p1                l1        nopc                  nob/c  ...   \n",
       "1           p1                l1        nopc                    b/c  ...   \n",
       "2           p1                l1        nopc                  nob/c  ...   \n",
       "3           p4                l1        nopc                  nob/c  ...   \n",
       "4           p1                l1        nopc                  nob/c  ...   \n",
       "\n",
       "   Credit_Score  co-applicant_credit_type    age  submission_of_application  \\\n",
       "0           758                       CIB  25-34                    to_inst   \n",
       "1           552                       EXP  55-64                    to_inst   \n",
       "2           834                       CIB  35-44                    to_inst   \n",
       "3           587                       CIB  45-54                   not_inst   \n",
       "4           602                       EXP  25-34                   not_inst   \n",
       "\n",
       "         LTV Region Security_Type Status  dtir1 loan_amt_v_income  \n",
       "0  98.728814  south        direct      1   45.0         66.954023  \n",
       "1        NaN  North        direct      1    NaN         41.465863  \n",
       "2  80.019685  south        direct      0   46.0         42.879747  \n",
       "3  69.376900  North        direct      0   42.0         38.425926  \n",
       "4  91.886544  North        direct      0   39.0         66.714559  \n",
       "\n",
       "[5 rows x 35 columns]"
      ]
     },
     "execution_count": 2,
     "metadata": {},
     "output_type": "execute_result"
    }
   ],
   "source": [
    "loan_df['income'] = loan_df['income'].fillna(loan_df['income'].mean())\n",
    "loan_df['loan_amount'] = loan_df['loan_amount'].fillna(loan_df['loan_amount'].mean())\n",
    "loan_df['rate_of_interest'] = loan_df['rate_of_interest'].fillna(loan_df['rate_of_interest'].mean())\n",
    "loan_df['approv_in_adv'] = loan_df['approv_in_adv'].fillna(loan_df['approv_in_adv'].mode())\n",
    "\n",
    "loan_df = loan_df.assign(\n",
    "    total_units = loan_df['total_units'].map({\n",
    "        '1U': '1U',\n",
    "        '2U': '2U+',\n",
    "        '3U': '2U+',\n",
    "        '4U': '2U+'\n",
    "    }),\n",
    "    loan_amt_v_income = loan_df['loan_amount'] / loan_df['income']\n",
    ")\n",
    "\n",
    "loan_df.head()"
   ]
  },
  {
   "cell_type": "code",
   "execution_count": 3,
   "id": "6e83e8d0-b859-4425-b03d-be293f0eff76",
   "metadata": {},
   "outputs": [
    {
     "name": "stdout",
     "output_type": "stream",
     "text": [
      "<class 'pandas.core.frame.DataFrame'>\n",
      "RangeIndex: 148670 entries, 0 to 148669\n",
      "Data columns (total 29 columns):\n",
      " #   Column                     Non-Null Count   Dtype  \n",
      "---  ------                     --------------   -----  \n",
      " 0   loan_limit                 145326 non-null  object \n",
      " 1   Gender                     148670 non-null  object \n",
      " 2   approv_in_adv              147762 non-null  object \n",
      " 3   loan_type                  148670 non-null  object \n",
      " 4   loan_purpose               148536 non-null  object \n",
      " 5   Credit_Worthiness          148670 non-null  object \n",
      " 6   business_or_commercial     148670 non-null  object \n",
      " 7   loan_amount                148670 non-null  int64  \n",
      " 8   rate_of_interest           148670 non-null  float64\n",
      " 9   Interest_rate_spread       112031 non-null  float64\n",
      " 10  Upfront_charges            109028 non-null  float64\n",
      " 11  term                       148629 non-null  float64\n",
      " 12  Neg_ammortization          148549 non-null  object \n",
      " 13  interest_only              148670 non-null  object \n",
      " 14  lump_sum_payment           148670 non-null  object \n",
      " 15  property_value             133572 non-null  float64\n",
      " 16  occupancy_type             148670 non-null  object \n",
      " 17  total_units                148670 non-null  object \n",
      " 18  income                     148670 non-null  float64\n",
      " 19  credit_type                148670 non-null  object \n",
      " 20  Credit_Score               148670 non-null  int64  \n",
      " 21  co-applicant_credit_type   148670 non-null  object \n",
      " 22  age                        148470 non-null  object \n",
      " 23  submission_of_application  148470 non-null  object \n",
      " 24  LTV                        133572 non-null  float64\n",
      " 25  Region                     148670 non-null  object \n",
      " 26  Status                     148670 non-null  int64  \n",
      " 27  dtir1                      124549 non-null  float64\n",
      " 28  loan_amt_v_income          148670 non-null  float64\n",
      "dtypes: float64(9), int64(3), object(17)\n",
      "memory usage: 32.9+ MB\n"
     ]
    }
   ],
   "source": [
    "prep_loan_df = loan_df.drop([\n",
    "    'year',\n",
    "    'ID',\n",
    "    'open_credit',\n",
    "    'construction_type',\n",
    "    'Security_Type',\n",
    "    'Secured_by'\n",
    "], axis=1)\n",
    "\n",
    "prep_loan_df.info()"
   ]
  },
  {
   "cell_type": "code",
   "execution_count": 4,
   "id": "c5045901-5b4b-4091-8635-af3f216f3110",
   "metadata": {},
   "outputs": [],
   "source": [
    "from sklearn.model_selection import train_test_split\n",
    "\n",
    "features = [\n",
    "    \"loan_amount\", \n",
    "    \"income\", \n",
    "    \"Gender\",\n",
    "    \"rate_of_interest\",\n",
    "    \"age\",\n",
    "    \"lump_sum_payment\",\n",
    "    \"credit_type\",\n",
    "    \"total_units\",\n",
    "    \"Credit_Worthiness\",\n",
    "    \"Credit_Score\",\n",
    "    \"approv_in_adv\", \n",
    "\n",
    "]\n",
    "\n",
    "X = pd.get_dummies(prep_loan_df[features], drop_first=True)\n",
    "y = prep_loan_df[\"Status\"]\n",
    "\n",
    "X_train, X_test, y_train, y_test = train_test_split(X, y, test_size=.2, random_state=12345)"
   ]
  },
  {
   "cell_type": "code",
   "execution_count": 5,
   "id": "30c9dea1-28c3-4edc-83e2-66626db18654",
   "metadata": {},
   "outputs": [
    {
     "name": "stderr",
     "output_type": "stream",
     "text": [
      "C:\\Users\\Camilo\\anaconda3\\Lib\\site-packages\\sklearn\\linear_model\\_logistic.py:469: ConvergenceWarning: lbfgs failed to converge (status=1):\n",
      "STOP: TOTAL NO. of ITERATIONS REACHED LIMIT.\n",
      "\n",
      "Increase the number of iterations (max_iter) or scale the data as shown in:\n",
      "    https://scikit-learn.org/stable/modules/preprocessing.html\n",
      "Please also refer to the documentation for alternative solver options:\n",
      "    https://scikit-learn.org/stable/modules/linear_model.html#logistic-regression\n",
      "  n_iter_i = _check_optimize_result(\n"
     ]
    }
   ],
   "source": [
    "from sklearn.linear_model import LogisticRegression\n",
    "\n",
    "lr = LogisticRegression()\n",
    "lr = lr.fit(X_train, y_train)"
   ]
  },
  {
   "cell_type": "code",
   "execution_count": 6,
   "id": "05d0fff0-4ad7-4e6b-a22f-9942d8ac360a",
   "metadata": {},
   "outputs": [
    {
     "data": {
      "text/plain": [
       "0.8569819062352863"
      ]
     },
     "execution_count": 6,
     "metadata": {},
     "output_type": "execute_result"
    }
   ],
   "source": [
    "lr.score(X_train, y_train)"
   ]
  },
  {
   "cell_type": "code",
   "execution_count": 7,
   "id": "14195516-5021-44e1-9f3b-2354be6dda5e",
   "metadata": {},
   "outputs": [
    {
     "data": {
      "text/plain": [
       "0.8571668796663752"
      ]
     },
     "execution_count": 7,
     "metadata": {},
     "output_type": "execute_result"
    }
   ],
   "source": [
    "from sklearn.metrics import accuracy_score\n",
    "\n",
    "accuracy_score(y_test, lr.predict(X_test))"
   ]
  },
  {
   "cell_type": "code",
   "execution_count": 17,
   "id": "5cb11dfd-6fea-4c84-9299-abccc3d83bb0",
   "metadata": {},
   "outputs": [
    {
     "data": {
      "text/plain": [
       "array([[22338,     7],\n",
       "       [ 4240,  3149]], dtype=int64)"
      ]
     },
     "execution_count": 17,
     "metadata": {},
     "output_type": "execute_result"
    }
   ],
   "source": [
    " from sklearn.metrics import confusion_matrix, precision_score, recall_score, f1_score\n",
    "\n",
    "confusion_matrix(y_test, lr.predict(X_test))"
   ]
  },
  {
   "cell_type": "code",
   "execution_count": 9,
   "id": "0080628e-4a90-49d8-9044-cb3584283ca0",
   "metadata": {},
   "outputs": [
    {
     "data": {
      "text/plain": [
       "0.9977820025348543"
      ]
     },
     "execution_count": 9,
     "metadata": {},
     "output_type": "execute_result"
    }
   ],
   "source": [
    "precision_score(y_test, lr.predict(X_test))"
   ]
  },
  {
   "cell_type": "code",
   "execution_count": 10,
   "id": "f1156555-5178-47e2-8c1b-95b32813c20b",
   "metadata": {},
   "outputs": [
    {
     "data": {
      "text/plain": [
       "0.4261740424956016"
      ]
     },
     "execution_count": 10,
     "metadata": {},
     "output_type": "execute_result"
    }
   ],
   "source": [
    "recall_score(y_test, lr.predict(X_test))"
   ]
  },
  {
   "cell_type": "code",
   "execution_count": 18,
   "id": "ff94135f-7b44-4b3e-95ef-9c5e87b99b09",
   "metadata": {},
   "outputs": [
    {
     "data": {
      "text/plain": [
       "0.5972498814604078"
      ]
     },
     "execution_count": 18,
     "metadata": {},
     "output_type": "execute_result"
    }
   ],
   "source": [
    "f1_score(y_test, lr.predict(X_test))"
   ]
  },
  {
   "cell_type": "code",
   "execution_count": 12,
   "id": "864aacaf-7e7d-4a5f-b93c-9b71f2cfddb2",
   "metadata": {},
   "outputs": [],
   "source": [
    "from sklearn.preprocessing import StandardScaler\n",
    "\n",
    "std = StandardScaler()\n",
    "\n",
    "X_train_std = std.fit_transform(X_train)\n",
    "X_test_std = std.transform(X_test)"
   ]
  },
  {
   "cell_type": "code",
   "execution_count": 13,
   "id": "9d2a5484-38f9-4387-9ebf-8db48d711831",
   "metadata": {},
   "outputs": [
    {
     "name": "stdout",
     "output_type": "stream",
     "text": [
      "Train Accuracy: 0.8607654536893792\n",
      "Test Accuracy: 0.8621443465393153\n"
     ]
    }
   ],
   "source": [
    "from sklearn.linear_model import LogisticRegression\n",
    "\n",
    "logreg = LogisticRegression(C=0.6, penalty='l1', solver='saga', max_iter=1000)\n",
    "lr_reg = logreg.fit(X_train_std, y_train)\n",
    "\n",
    "print(f\"Train Accuracy: {lr_reg.score(X_train_std, y_train)}\")\n",
    "print(f\"Test Accuracy: {lr_reg.score(X_test_std, y_test)}\")"
   ]
  },
  {
   "cell_type": "code",
   "execution_count": 14,
   "id": "2d171913-2cc4-4b75-8516-9e4cd462a1b2",
   "metadata": {},
   "outputs": [
    {
     "data": {
      "text/plain": [
       "array([[22207,   138],\n",
       "       [ 3961,  3428]], dtype=int64)"
      ]
     },
     "execution_count": 14,
     "metadata": {},
     "output_type": "execute_result"
    }
   ],
   "source": [
    "confusion_matrix(y_test, lr_reg.predict(X_test_std))"
   ]
  },
  {
   "cell_type": "code",
   "execution_count": 15,
   "id": "d3fef972-203f-4169-83e9-ce45f05cacfb",
   "metadata": {},
   "outputs": [
    {
     "data": {
      "text/plain": [
       "0.9613011777902412"
      ]
     },
     "execution_count": 15,
     "metadata": {},
     "output_type": "execute_result"
    }
   ],
   "source": [
    "precision_score(y_test, lr_reg.predict(X_test_std))"
   ]
  },
  {
   "cell_type": "code",
   "execution_count": 16,
   "id": "93f49438-048f-4e92-8719-23e3890b2aa0",
   "metadata": {},
   "outputs": [
    {
     "data": {
      "text/plain": [
       "0.46393287318987686"
      ]
     },
     "execution_count": 16,
     "metadata": {},
     "output_type": "execute_result"
    }
   ],
   "source": [
    "recall_score(y_test, lr_reg.predict(X_test_std))"
   ]
  },
  {
   "cell_type": "code",
   "execution_count": 19,
   "id": "5f3fa8b3-ab05-4d05-be9c-163ab95e4945",
   "metadata": {},
   "outputs": [
    {
     "data": {
      "text/plain": [
       "0.6258329529895025"
      ]
     },
     "execution_count": 19,
     "metadata": {},
     "output_type": "execute_result"
    }
   ],
   "source": [
    "f1_score(y_test, lr_reg.predict(X_test_std))"
   ]
  },
  {
   "cell_type": "code",
   "execution_count": 21,
   "id": "4ccfe755-6d6f-4879-b51e-a8bb14c5f258",
   "metadata": {},
   "outputs": [
    {
     "data": {
      "text/plain": [
       "array([False, False, False, ..., False, False,  True])"
      ]
     },
     "execution_count": 21,
     "metadata": {},
     "output_type": "execute_result"
    }
   ],
   "source": [
    "lr_reg.predict_proba(X_test_std)[:,1] > .25"
   ]
  },
  {
   "cell_type": "code",
   "execution_count": 25,
   "id": "1cc6b7ba-08c6-4604-ab2f-a1925b2853cf",
   "metadata": {},
   "outputs": [
    {
     "data": {
      "text/plain": [
       "array([[ 3275, 19070],\n",
       "       [  311,  7078]], dtype=int64)"
      ]
     },
     "execution_count": 25,
     "metadata": {},
     "output_type": "execute_result"
    }
   ],
   "source": [
    "confusion_matrix(y_test, lr_reg.predict_proba(X_test_std)[:,1] > .1)"
   ]
  },
  {
   "cell_type": "code",
   "execution_count": 26,
   "id": "ebe11cca-27f5-4a57-a1f7-e84e9545b9f9",
   "metadata": {},
   "outputs": [
    {
     "data": {
      "text/plain": [
       "0.2706899189230534"
      ]
     },
     "execution_count": 26,
     "metadata": {},
     "output_type": "execute_result"
    }
   ],
   "source": [
    "precision_score(y_test, lr_reg.predict_proba(X_test_std)[:,1] > .1)"
   ]
  },
  {
   "cell_type": "code",
   "execution_count": 27,
   "id": "1378c708-1c2d-47c1-862a-e2dd1ba4681d",
   "metadata": {},
   "outputs": [
    {
     "data": {
      "text/plain": [
       "0.9579104073622953"
      ]
     },
     "execution_count": 27,
     "metadata": {},
     "output_type": "execute_result"
    }
   ],
   "source": [
    "recall_score(y_test, lr_reg.predict_proba(X_test_std)[:,1] > .1)"
   ]
  },
  {
   "cell_type": "markdown",
   "id": "e993c298-9aaf-41f5-95ed-a93ad2d4e82c",
   "metadata": {},
   "source": [
    "## Plotting Precision-Recall & F1 Curves"
   ]
  },
  {
   "cell_type": "code",
   "execution_count": 28,
   "id": "810ce36d-6e80-4509-9f2f-bc011acded07",
   "metadata": {},
   "outputs": [
    {
     "data": {
      "image/png": "[encoded data removed]",
      "text/plain": [
       "<Figure size 640x480 with 1 Axes>"
      ]
     },
     "metadata": {},
     "output_type": "display_data"
    }
   ],
   "source": [
    "from sklearn.metrics import precision_recall_curve\n",
    "import matplotlib.pyplot as plt\n",
    "\n",
    "p_curve, r_curve, t_curve = precision_recall_curve(y_test, lr_reg.predict_proba(X_test_std)[:,1])\n",
    "\n",
    "plt.plot(t_curve, p_curve[:-1], label='Precision')\n",
    "plt.plot(t_curve, r_curve[:-1], label='Recall')\n",
    "plt.xlabel('Prediction Threshold')\n",
    "plt.ylabel('Scores')\n",
    "plt.legend()\n",
    "plt.title('Precision-Recall Curve')\n",
    "# plt.grid(True)\n",
    "plt.show()"
   ]
  },
  {
   "cell_type": "code",
   "execution_count": 29,
   "id": "c157dd31-a73b-479d-a0db-6e3e23436256",
   "metadata": {},
   "outputs": [
    {
     "data": {
      "image/png": "[encoded data removed]",
      "text/plain": [
       "<Figure size 600x600 with 1 Axes>"
      ]
     },
     "metadata": {},
     "output_type": "display_data"
    }
   ],
   "source": [
    "fig, ax = plt.subplots(figsize=(6,6))\n",
    "ax.plot(r_curve, p_curve, label='Logistic Regression')\n",
    "baseline = len(y_test[y_test==1]) / len(y_test)\n",
    "ax.plot([0, 1], [baseline, baseline], linestyle='--', label='Baseline')\n",
    "ax.set_xlabel('Recall')\n",
    "ax.set_ylabel('Precision')\n",
    "ax.legend(loc='center left');"
   ]
  },
  {
   "cell_type": "code",
   "execution_count": 30,
   "id": "c9519350-66aa-4fd8-b586-dde03b3df592",
   "metadata": {},
   "outputs": [
    {
     "data": {
      "text/plain": [
       "<Axes: >"
      ]
     },
     "execution_count": 30,
     "metadata": {},
     "output_type": "execute_result"
    },
    {
     "data": {
      "image/png": "[encoded data removed]",
      "text/plain": [
       "<Figure size 640x480 with 1 Axes>"
      ]
     },
     "metadata": {},
     "output_type": "display_data"
    }
   ],
   "source": [
    "from sklearn.metrics import f1_score\n",
    "# using the default threshold of 0.5\n",
    "\n",
    "f1 = []\n",
    "\n",
    "thresholds = np.linspace(0, 1, 100)\n",
    "\n",
    "for thresh in thresholds:\n",
    "    y_pred =(lr_reg.predict_proba(X_test_std)[:,1]>thresh)\n",
    "    f1.append(f1_score(y_test, y_pred))\n",
    "    \n",
    "sns.lineplot(x=thresholds, y=f1)"
   ]
  },
  {
   "cell_type": "code",
   "execution_count": 31,
   "id": "3829718b-a789-4f18-87cd-2df5f9e3e701",
   "metadata": {},
   "outputs": [
    {
     "data": {
      "text/plain": [
       "array([1.00000000e+00, 9.99864664e-01, 9.99864664e-01, ...,\n",
       "       2.70672621e-04, 1.35336311e-04, 0.00000000e+00])"
      ]
     },
     "execution_count": 31,
     "metadata": {},
     "output_type": "execute_result"
    }
   ],
   "source": [
    "r_curve"
   ]
  },
  {
   "cell_type": "code",
   "execution_count": 32,
   "id": "87b07703-2979-45bd-8038-6df2987d5065",
   "metadata": {},
   "outputs": [
    {
     "data": {
      "text/plain": [
       "118936"
      ]
     },
     "execution_count": 32,
     "metadata": {},
     "output_type": "execute_result"
    }
   ],
   "source": [
    "len(X_train)"
   ]
  },
  {
   "cell_type": "code",
   "execution_count": null,
   "id": "831606bf-5561-4eb7-8605-b05112f4741b",
   "metadata": {},
   "outputs": [],
   "source": []
  }
 ],
 "metadata": {
  "kernelspec": {
   "display_name": "Python [conda env:base] *",
   "language": "python",
   "name": "conda-base-py"
  },
  "language_info": {
   "codemirror_mode": {
    "name": "ipython",
    "version": 3
   },
   "file_extension": ".py",
   "mimetype": "text/x-python",
   "name": "python",
   "nbconvert_exporter": "python",
   "pygments_lexer": "ipython3",
   "version": "3.12.7"
  }
 },
 "nbformat": 4,
 "nbformat_minor": 5
}
