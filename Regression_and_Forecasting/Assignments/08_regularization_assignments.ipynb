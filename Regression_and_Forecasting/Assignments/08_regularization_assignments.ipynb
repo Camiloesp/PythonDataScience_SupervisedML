{
 "cells": [
  {
   "cell_type": "markdown",
   "id": "a3e6e9e8",
   "metadata": {},
   "source": [
    "### Regularization Assignments\n",
    "\n",
    "Use the model below as a basis for comparison to your regularized models."
   ]
  },
  {
   "cell_type": "code",
   "execution_count": 1,
   "id": "58407cba",
   "metadata": {},
   "outputs": [
    {
     "data": {
      "text/html": [
       "<div>\n",
       "<style scoped>\n",
       "    .dataframe tbody tr th:only-of-type {\n",
       "        vertical-align: middle;\n",
       "    }\n",
       "\n",
       "    .dataframe tbody tr th {\n",
       "        vertical-align: top;\n",
       "    }\n",
       "\n",
       "    .dataframe thead th {\n",
       "        text-align: right;\n",
       "    }\n",
       "</style>\n",
       "<table border=\"1\" class=\"dataframe\">\n",
       "  <thead>\n",
       "    <tr style=\"text-align: right;\">\n",
       "      <th></th>\n",
       "      <th>price</th>\n",
       "      <th>speed</th>\n",
       "      <th>hd</th>\n",
       "      <th>ram</th>\n",
       "      <th>screen</th>\n",
       "      <th>cd</th>\n",
       "      <th>multi</th>\n",
       "      <th>premium</th>\n",
       "      <th>ads</th>\n",
       "      <th>trend</th>\n",
       "    </tr>\n",
       "  </thead>\n",
       "  <tbody>\n",
       "    <tr>\n",
       "      <th>6254</th>\n",
       "      <td>1690</td>\n",
       "      <td>100</td>\n",
       "      <td>528</td>\n",
       "      <td>8</td>\n",
       "      <td>15</td>\n",
       "      <td>no</td>\n",
       "      <td>no</td>\n",
       "      <td>yes</td>\n",
       "      <td>39</td>\n",
       "      <td>35</td>\n",
       "    </tr>\n",
       "    <tr>\n",
       "      <th>6255</th>\n",
       "      <td>2223</td>\n",
       "      <td>66</td>\n",
       "      <td>850</td>\n",
       "      <td>16</td>\n",
       "      <td>15</td>\n",
       "      <td>yes</td>\n",
       "      <td>yes</td>\n",
       "      <td>yes</td>\n",
       "      <td>39</td>\n",
       "      <td>35</td>\n",
       "    </tr>\n",
       "    <tr>\n",
       "      <th>6256</th>\n",
       "      <td>2654</td>\n",
       "      <td>100</td>\n",
       "      <td>1200</td>\n",
       "      <td>24</td>\n",
       "      <td>15</td>\n",
       "      <td>yes</td>\n",
       "      <td>no</td>\n",
       "      <td>yes</td>\n",
       "      <td>39</td>\n",
       "      <td>35</td>\n",
       "    </tr>\n",
       "    <tr>\n",
       "      <th>6257</th>\n",
       "      <td>2195</td>\n",
       "      <td>100</td>\n",
       "      <td>850</td>\n",
       "      <td>16</td>\n",
       "      <td>15</td>\n",
       "      <td>yes</td>\n",
       "      <td>no</td>\n",
       "      <td>yes</td>\n",
       "      <td>39</td>\n",
       "      <td>35</td>\n",
       "    </tr>\n",
       "    <tr>\n",
       "      <th>6258</th>\n",
       "      <td>2490</td>\n",
       "      <td>100</td>\n",
       "      <td>850</td>\n",
       "      <td>16</td>\n",
       "      <td>17</td>\n",
       "      <td>yes</td>\n",
       "      <td>no</td>\n",
       "      <td>yes</td>\n",
       "      <td>39</td>\n",
       "      <td>35</td>\n",
       "    </tr>\n",
       "  </tbody>\n",
       "</table>\n",
       "</div>"
      ],
      "text/plain": [
       "      price  speed    hd  ram  screen   cd multi premium  ads  trend\n",
       "6254   1690    100   528    8      15   no    no     yes   39     35\n",
       "6255   2223     66   850   16      15  yes   yes     yes   39     35\n",
       "6256   2654    100  1200   24      15  yes    no     yes   39     35\n",
       "6257   2195    100   850   16      15  yes    no     yes   39     35\n",
       "6258   2490    100   850   16      17  yes    no     yes   39     35"
      ]
     },
     "execution_count": 1,
     "metadata": {},
     "output_type": "execute_result"
    }
   ],
   "source": [
    "import pandas as pd\n",
    "import seaborn as sns\n",
    "import statsmodels.api as sm\n",
    "import numpy as np\n",
    "from sklearn.metrics import r2_score as r2\n",
    "from sklearn.metrics import mean_absolute_error as mae\n",
    "\n",
    "\n",
    "computers = pd.read_csv(\"../Data/Computers.csv\")\n",
    "\n",
    "computers.tail()"
   ]
  },
  {
   "cell_type": "code",
   "execution_count": 2,
   "id": "1cfab9e8",
   "metadata": {},
   "outputs": [],
   "source": [
    "# Use the dataframe below for model fitting, afterwards, feel free to try more feature engineering!\n",
    "\n",
    "computers_eng = (\n",
    "    pd.get_dummies(\n",
    "        computers.assign(\n",
    "            hd2 = computers[\"hd\"] ** 2,\n",
    "            hd3 = computers[\"hd\"] ** 3,\n",
    "        ),\n",
    "    drop_first=True    \n",
    "    ).astype(int)\n",
    ")"
   ]
  },
  {
   "cell_type": "code",
   "execution_count": 3,
   "id": "a150fcfe",
   "metadata": {},
   "outputs": [],
   "source": [
    "from sklearn.model_selection import train_test_split\n",
    "\n",
    "X = sm.add_constant(computers_eng.drop(\"price\", axis=1))\n",
    "y = np.log(computers[\"price\"])\n",
    "\n",
    "# Test Split\n",
    "\n",
    "X, X_test, y, y_test = train_test_split(X, y, test_size=.2, random_state=12345)"
   ]
  },
  {
   "cell_type": "code",
   "execution_count": 4,
   "id": "274c7756",
   "metadata": {},
   "outputs": [
    {
     "name": "stdout",
     "output_type": "stream",
     "text": [
      "Training R2: 0.8028102057477985\n",
      "Training MAE: 0.08772703487258389\n"
     ]
    }
   ],
   "source": [
    "model = sm.OLS(y, X).fit()\n",
    "\n",
    "#model.summary()\n",
    "\n",
    "print(f\"Training R2: {r2(y, model.predict(X))}\")\n",
    "print(f\"Training MAE: {mae(y, model.predict(X))}\")"
   ]
  },
  {
   "cell_type": "code",
   "execution_count": 5,
   "id": "f83fb336",
   "metadata": {},
   "outputs": [
    {
     "name": "stdout",
     "output_type": "stream",
     "text": [
      "Test R2: 0.8065658815043161\n",
      "Test MAE: 0.08779069040050624\n"
     ]
    }
   ],
   "source": [
    "print(f\"Test R2: {r2(y_test, model.predict(X_test))}\")\n",
    "print(f\"Test MAE: {mae(y_test, model.predict(X_test))}\")"
   ]
  },
  {
   "cell_type": "markdown",
   "id": "4e3a412a",
   "metadata": {},
   "source": [
    "## Assignment 1: Ridge Regression\n",
    "\n",
    "Fit a ridge regression model using ridgeCV and compare the accuracy to the model above. \n",
    "\n",
    "Don't forget to standardize your data!"
   ]
  },
  {
   "cell_type": "code",
   "execution_count": 6,
   "id": "cdaa2461-624d-42d4-a26b-cfd5502b143b",
   "metadata": {},
   "outputs": [],
   "source": [
    "# Standardization\n"
   ]
  },
  {
   "cell_type": "code",
   "execution_count": 7,
   "id": "5ac7b0fa",
   "metadata": {},
   "outputs": [],
   "source": [
    "from sklearn.preprocessing import StandardScaler\n",
    "\n",
    "std = StandardScaler()\n",
    "X_tr = std.fit_transform(X.values)\n",
    "X_te = std.transform(X_test.values)"
   ]
  },
  {
   "cell_type": "code",
   "execution_count": 8,
   "id": "d9161dae",
   "metadata": {},
   "outputs": [
    {
     "name": "stdout",
     "output_type": "stream",
     "text": [
      "0.8028077420511628\n",
      "0.08772450452527322\n",
      "1.6831803533309566\n"
     ]
    }
   ],
   "source": [
    "from sklearn.linear_model import RidgeCV\n",
    "\n",
    "n_alphas = 200\n",
    "alphas = 10 ** np.linspace(-3, 3, n_alphas)\n",
    "\n",
    "ridge_model = RidgeCV(alphas=alphas, cv=5)\n",
    "ridge_model.fit(X_tr, y)\n",
    "\n",
    "print(ridge_model.score(X_tr, y))\n",
    "print(mae(y, ridge_model.predict(X_tr)))\n",
    "print(ridge_model.alpha_)"
   ]
  },
  {
   "cell_type": "code",
   "execution_count": 9,
   "id": "833f1933",
   "metadata": {},
   "outputs": [
    {
     "name": "stdout",
     "output_type": "stream",
     "text": [
      "0.8066408224246605\n",
      "0.08776922958338967\n"
     ]
    }
   ],
   "source": [
    "print(ridge_model.score(X_te, y_test))\n",
    "print(mae(y_test, ridge_model.predict(X_te)))"
   ]
  },
  {
   "cell_type": "markdown",
   "id": "aa64c579",
   "metadata": {},
   "source": [
    "# Assignment 2: Lasso Regression\n",
    "\n",
    "Fit a lasso regression model using LassoCV and compare the accuracy to the models above! \n",
    "\n",
    "Did any coefficient values drop to zero?"
   ]
  },
  {
   "cell_type": "code",
   "execution_count": 12,
   "id": "4e643614",
   "metadata": {},
   "outputs": [
    {
     "name": "stdout",
     "output_type": "stream",
     "text": [
      "0.8019553710214781\n",
      "0.08781513877601245\n",
      "0.001\n"
     ]
    }
   ],
   "source": [
    "from sklearn.linear_model import LassoCV\n",
    "\n",
    "n_alphas = 200\n",
    "alphas = 10 ** np.linspace(-3, 3, n_alphas)\n",
    "\n",
    "lasso_model = LassoCV(alphas=alphas, cv=5)\n",
    "lasso_model.fit(X_tr, y)\n",
    "\n",
    "print(lasso_model.score(X_tr, y))\n",
    "print(mae(y, lasso_model.predict(X_tr)))\n",
    "print(lasso_model.alpha_)"
   ]
  },
  {
   "cell_type": "code",
   "execution_count": 13,
   "id": "0684232f-8b5f-422b-a0aa-cc08eb3f3f5e",
   "metadata": {},
   "outputs": [
    {
     "data": {
      "text/plain": [
       "0.8067896442779818"
      ]
     },
     "execution_count": 13,
     "metadata": {},
     "output_type": "execute_result"
    }
   ],
   "source": [
    "lasso_model.score(X_te, y_test)"
   ]
  },
  {
   "cell_type": "code",
   "execution_count": 14,
   "id": "20a69261-e676-4715-a8b5-0b6337836a39",
   "metadata": {},
   "outputs": [
    {
     "data": {
      "text/plain": [
       "[('const', 0.0),\n",
       " ('speed', 0.08463043405530733),\n",
       " ('hd', 0.18516885807645328),\n",
       " ('ram', 0.11690128503401381),\n",
       " ('screen', 0.04524634029207188),\n",
       " ('ads', 0.012638230254620176),\n",
       " ('trend', -0.18506363919329577),\n",
       " ('hd2', -0.08372632381168839),\n",
       " ('hd3', -0.020294334735824846),\n",
       " ('cd_yes', 0.019861712889363618),\n",
       " ('multi_yes', 0.01566346550935769),\n",
       " ('premium_yes', -0.06971597714604676)]"
      ]
     },
     "execution_count": 14,
     "metadata": {},
     "output_type": "execute_result"
    }
   ],
   "source": [
    "list(zip(X.columns, lasso_model.coef_))"
   ]
  },
  {
   "cell_type": "markdown",
   "id": "fed8f94c",
   "metadata": {},
   "source": [
    "## Assignment 3: Elastic Net Regression\n",
    "\n",
    "Fit an elastic net regression model using ElasticNetCV and compare the accuracy to the models above! \n",
    "\n",
    "What was the optimal L1 Ratio?"
   ]
  },
  {
   "cell_type": "code",
   "execution_count": 15,
   "id": "1a219948",
   "metadata": {},
   "outputs": [
    {
     "name": "stdout",
     "output_type": "stream",
     "text": [
      "0.8027869091639886\n",
      "0.8067750446023396\n",
      "0.001\n",
      "[0.01 0.12 0.23 0.34 0.45 0.56 0.67 0.78 0.89 1.  ]\n"
     ]
    }
   ],
   "source": [
    "from sklearn.linear_model import ElasticNetCV\n",
    "\n",
    "alphas = 10 ** np.linspace(-3, 3, 200)\n",
    "l1_ratios = np.linspace(.01, 1, 10) # .9, 1, 10\n",
    "\n",
    "enet_model = ElasticNetCV(alphas=alphas, l1_ratio=l1_ratios, cv=5)\n",
    "enet_model.fit(X_tr, y)\n",
    "\n",
    "print(enet_model.score(X_tr, y))\n",
    "print(enet_model.score(X_te, y_test))\n",
    "print(enet_model.alpha_)\n",
    "print(enet_model.l1_ratio)"
   ]
  },
  {
   "cell_type": "code",
   "execution_count": null,
   "id": "d8923fec-d54e-4af9-a740-4013a27ad9e4",
   "metadata": {},
   "outputs": [],
   "source": []
  }
 ],
 "metadata": {
  "kernelspec": {
   "display_name": "Python [conda env:base] *",
   "language": "python",
   "name": "conda-base-py"
  },
  "language_info": {
   "codemirror_mode": {
    "name": "ipython",
    "version": 3
   },
   "file_extension": ".py",
   "mimetype": "text/x-python",
   "name": "python",
   "nbconvert_exporter": "python",
   "pygments_lexer": "ipython3",
   "version": "3.12.7"
  }
 },
 "nbformat": 4,
 "nbformat_minor": 5
}
