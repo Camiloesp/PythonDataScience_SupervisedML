{
 "cells": [
  {
   "cell_type": "markdown",
   "id": "865cdb41",
   "metadata": {},
   "source": [
    "# Assignment 1: Simple Linear Regression\n",
    "\n",
    "1. Read in the \"Computers.csv\" file & perform any desired EDA.\n",
    "2. Fit a regression model with target = \"price\".  Fit your model on the feature with the strongest correlation to price\n",
    "3. Interpret the model equation\n",
    "4. Visualize the residuals of your model\n",
    "5. Make predictions for common values of your feature"
   ]
  },
  {
   "cell_type": "code",
   "execution_count": 1,
   "id": "c298500d",
   "metadata": {},
   "outputs": [
    {
     "data": {
      "text/html": [
       "<div>\n",
       "<style scoped>\n",
       "    .dataframe tbody tr th:only-of-type {\n",
       "        vertical-align: middle;\n",
       "    }\n",
       "\n",
       "    .dataframe tbody tr th {\n",
       "        vertical-align: top;\n",
       "    }\n",
       "\n",
       "    .dataframe thead th {\n",
       "        text-align: right;\n",
       "    }\n",
       "</style>\n",
       "<table border=\"1\" class=\"dataframe\">\n",
       "  <thead>\n",
       "    <tr style=\"text-align: right;\">\n",
       "      <th></th>\n",
       "      <th>price</th>\n",
       "      <th>speed</th>\n",
       "      <th>hd</th>\n",
       "      <th>ram</th>\n",
       "      <th>screen</th>\n",
       "      <th>cd</th>\n",
       "      <th>multi</th>\n",
       "      <th>premium</th>\n",
       "      <th>ads</th>\n",
       "      <th>trend</th>\n",
       "    </tr>\n",
       "  </thead>\n",
       "  <tbody>\n",
       "    <tr>\n",
       "      <th>0</th>\n",
       "      <td>1499</td>\n",
       "      <td>25</td>\n",
       "      <td>80</td>\n",
       "      <td>4</td>\n",
       "      <td>14</td>\n",
       "      <td>no</td>\n",
       "      <td>no</td>\n",
       "      <td>yes</td>\n",
       "      <td>94</td>\n",
       "      <td>1</td>\n",
       "    </tr>\n",
       "    <tr>\n",
       "      <th>1</th>\n",
       "      <td>1795</td>\n",
       "      <td>33</td>\n",
       "      <td>85</td>\n",
       "      <td>2</td>\n",
       "      <td>14</td>\n",
       "      <td>no</td>\n",
       "      <td>no</td>\n",
       "      <td>yes</td>\n",
       "      <td>94</td>\n",
       "      <td>1</td>\n",
       "    </tr>\n",
       "    <tr>\n",
       "      <th>2</th>\n",
       "      <td>1595</td>\n",
       "      <td>25</td>\n",
       "      <td>170</td>\n",
       "      <td>4</td>\n",
       "      <td>15</td>\n",
       "      <td>no</td>\n",
       "      <td>no</td>\n",
       "      <td>yes</td>\n",
       "      <td>94</td>\n",
       "      <td>1</td>\n",
       "    </tr>\n",
       "    <tr>\n",
       "      <th>3</th>\n",
       "      <td>1849</td>\n",
       "      <td>25</td>\n",
       "      <td>170</td>\n",
       "      <td>8</td>\n",
       "      <td>14</td>\n",
       "      <td>no</td>\n",
       "      <td>no</td>\n",
       "      <td>no</td>\n",
       "      <td>94</td>\n",
       "      <td>1</td>\n",
       "    </tr>\n",
       "    <tr>\n",
       "      <th>4</th>\n",
       "      <td>3295</td>\n",
       "      <td>33</td>\n",
       "      <td>340</td>\n",
       "      <td>16</td>\n",
       "      <td>14</td>\n",
       "      <td>no</td>\n",
       "      <td>no</td>\n",
       "      <td>yes</td>\n",
       "      <td>94</td>\n",
       "      <td>1</td>\n",
       "    </tr>\n",
       "  </tbody>\n",
       "</table>\n",
       "</div>"
      ],
      "text/plain": [
       "   price  speed   hd  ram  screen  cd multi premium  ads  trend\n",
       "0   1499     25   80    4      14  no    no     yes   94      1\n",
       "1   1795     33   85    2      14  no    no     yes   94      1\n",
       "2   1595     25  170    4      15  no    no     yes   94      1\n",
       "3   1849     25  170    8      14  no    no      no   94      1\n",
       "4   3295     33  340   16      14  no    no     yes   94      1"
      ]
     },
     "execution_count": 1,
     "metadata": {},
     "output_type": "execute_result"
    }
   ],
   "source": [
    "import pandas as pd\n",
    "\n",
    "computers = pd.read_csv(\"../Data/Computers.csv\")\n",
    "computers.head()"
   ]
  },
  {
   "cell_type": "markdown",
   "id": "2802613f",
   "metadata": {},
   "source": [
    "### EDA"
   ]
  },
  {
   "cell_type": "code",
   "execution_count": 2,
   "id": "1b7d53be-9488-4586-bc55-a20a772037a7",
   "metadata": {},
   "outputs": [
    {
     "name": "stdout",
     "output_type": "stream",
     "text": [
      "<class 'pandas.core.frame.DataFrame'>\n",
      "RangeIndex: 6259 entries, 0 to 6258\n",
      "Data columns (total 10 columns):\n",
      " #   Column   Non-Null Count  Dtype \n",
      "---  ------   --------------  ----- \n",
      " 0   price    6259 non-null   int64 \n",
      " 1   speed    6259 non-null   int64 \n",
      " 2   hd       6259 non-null   int64 \n",
      " 3   ram      6259 non-null   int64 \n",
      " 4   screen   6259 non-null   int64 \n",
      " 5   cd       6259 non-null   object\n",
      " 6   multi    6259 non-null   object\n",
      " 7   premium  6259 non-null   object\n",
      " 8   ads      6259 non-null   int64 \n",
      " 9   trend    6259 non-null   int64 \n",
      "dtypes: int64(7), object(3)\n",
      "memory usage: 489.1+ KB\n"
     ]
    }
   ],
   "source": [
    "computers.info()"
   ]
  },
  {
   "cell_type": "code",
   "execution_count": 3,
   "id": "4cbed1f4-4317-4b6d-9f01-5e8e98fde0d4",
   "metadata": {},
   "outputs": [
    {
     "data": {
      "text/html": [
       "<div>\n",
       "<style scoped>\n",
       "    .dataframe tbody tr th:only-of-type {\n",
       "        vertical-align: middle;\n",
       "    }\n",
       "\n",
       "    .dataframe tbody tr th {\n",
       "        vertical-align: top;\n",
       "    }\n",
       "\n",
       "    .dataframe thead th {\n",
       "        text-align: right;\n",
       "    }\n",
       "</style>\n",
       "<table border=\"1\" class=\"dataframe\">\n",
       "  <thead>\n",
       "    <tr style=\"text-align: right;\">\n",
       "      <th></th>\n",
       "      <th>price</th>\n",
       "      <th>speed</th>\n",
       "      <th>hd</th>\n",
       "      <th>ram</th>\n",
       "      <th>screen</th>\n",
       "      <th>ads</th>\n",
       "      <th>trend</th>\n",
       "    </tr>\n",
       "  </thead>\n",
       "  <tbody>\n",
       "    <tr>\n",
       "      <th>count</th>\n",
       "      <td>6259.000000</td>\n",
       "      <td>6259.000000</td>\n",
       "      <td>6259.000000</td>\n",
       "      <td>6259.000000</td>\n",
       "      <td>6259.000000</td>\n",
       "      <td>6259.000000</td>\n",
       "      <td>6259.000000</td>\n",
       "    </tr>\n",
       "    <tr>\n",
       "      <th>mean</th>\n",
       "      <td>2219.576610</td>\n",
       "      <td>52.011024</td>\n",
       "      <td>416.601694</td>\n",
       "      <td>8.286947</td>\n",
       "      <td>14.608723</td>\n",
       "      <td>221.301007</td>\n",
       "      <td>15.926985</td>\n",
       "    </tr>\n",
       "    <tr>\n",
       "      <th>std</th>\n",
       "      <td>580.803956</td>\n",
       "      <td>21.157735</td>\n",
       "      <td>258.548445</td>\n",
       "      <td>5.631099</td>\n",
       "      <td>0.905115</td>\n",
       "      <td>74.835284</td>\n",
       "      <td>7.873984</td>\n",
       "    </tr>\n",
       "    <tr>\n",
       "      <th>min</th>\n",
       "      <td>949.000000</td>\n",
       "      <td>25.000000</td>\n",
       "      <td>80.000000</td>\n",
       "      <td>2.000000</td>\n",
       "      <td>14.000000</td>\n",
       "      <td>39.000000</td>\n",
       "      <td>1.000000</td>\n",
       "    </tr>\n",
       "    <tr>\n",
       "      <th>25%</th>\n",
       "      <td>1794.000000</td>\n",
       "      <td>33.000000</td>\n",
       "      <td>214.000000</td>\n",
       "      <td>4.000000</td>\n",
       "      <td>14.000000</td>\n",
       "      <td>162.500000</td>\n",
       "      <td>10.000000</td>\n",
       "    </tr>\n",
       "    <tr>\n",
       "      <th>50%</th>\n",
       "      <td>2144.000000</td>\n",
       "      <td>50.000000</td>\n",
       "      <td>340.000000</td>\n",
       "      <td>8.000000</td>\n",
       "      <td>14.000000</td>\n",
       "      <td>246.000000</td>\n",
       "      <td>16.000000</td>\n",
       "    </tr>\n",
       "    <tr>\n",
       "      <th>75%</th>\n",
       "      <td>2595.000000</td>\n",
       "      <td>66.000000</td>\n",
       "      <td>528.000000</td>\n",
       "      <td>8.000000</td>\n",
       "      <td>15.000000</td>\n",
       "      <td>275.000000</td>\n",
       "      <td>21.500000</td>\n",
       "    </tr>\n",
       "    <tr>\n",
       "      <th>max</th>\n",
       "      <td>5399.000000</td>\n",
       "      <td>100.000000</td>\n",
       "      <td>2100.000000</td>\n",
       "      <td>32.000000</td>\n",
       "      <td>17.000000</td>\n",
       "      <td>339.000000</td>\n",
       "      <td>35.000000</td>\n",
       "    </tr>\n",
       "  </tbody>\n",
       "</table>\n",
       "</div>"
      ],
      "text/plain": [
       "             price        speed           hd          ram       screen  \\\n",
       "count  6259.000000  6259.000000  6259.000000  6259.000000  6259.000000   \n",
       "mean   2219.576610    52.011024   416.601694     8.286947    14.608723   \n",
       "std     580.803956    21.157735   258.548445     5.631099     0.905115   \n",
       "min     949.000000    25.000000    80.000000     2.000000    14.000000   \n",
       "25%    1794.000000    33.000000   214.000000     4.000000    14.000000   \n",
       "50%    2144.000000    50.000000   340.000000     8.000000    14.000000   \n",
       "75%    2595.000000    66.000000   528.000000     8.000000    15.000000   \n",
       "max    5399.000000   100.000000  2100.000000    32.000000    17.000000   \n",
       "\n",
       "               ads        trend  \n",
       "count  6259.000000  6259.000000  \n",
       "mean    221.301007    15.926985  \n",
       "std      74.835284     7.873984  \n",
       "min      39.000000     1.000000  \n",
       "25%     162.500000    10.000000  \n",
       "50%     246.000000    16.000000  \n",
       "75%     275.000000    21.500000  \n",
       "max     339.000000    35.000000  "
      ]
     },
     "execution_count": 3,
     "metadata": {},
     "output_type": "execute_result"
    }
   ],
   "source": [
    "computers.describe()"
   ]
  },
  {
   "cell_type": "code",
   "execution_count": 4,
   "id": "f41763e8-3ce1-4d0f-b75b-fe24ce5b6c7c",
   "metadata": {},
   "outputs": [
    {
     "data": {
      "image/png": "[encoded data removed]",
      "text/plain": [
       "<Figure size 640x480 with 1 Axes>"
      ]
     },
     "metadata": {},
     "output_type": "display_data"
    }
   ],
   "source": [
    "import seaborn as sns\n",
    "\n",
    "sns.histplot(computers['price']);"
   ]
  },
  {
   "cell_type": "code",
   "execution_count": 5,
   "id": "a8a6d91b-ee52-465b-bce9-479de5ddf05c",
   "metadata": {},
   "outputs": [
    {
     "data": {
      "text/html": [
       "<div>\n",
       "<style scoped>\n",
       "    .dataframe tbody tr th:only-of-type {\n",
       "        vertical-align: middle;\n",
       "    }\n",
       "\n",
       "    .dataframe tbody tr th {\n",
       "        vertical-align: top;\n",
       "    }\n",
       "\n",
       "    .dataframe thead th {\n",
       "        text-align: right;\n",
       "    }\n",
       "</style>\n",
       "<table border=\"1\" class=\"dataframe\">\n",
       "  <thead>\n",
       "    <tr style=\"text-align: right;\">\n",
       "      <th></th>\n",
       "      <th>price</th>\n",
       "      <th>speed</th>\n",
       "      <th>hd</th>\n",
       "      <th>ram</th>\n",
       "      <th>screen</th>\n",
       "      <th>ads</th>\n",
       "      <th>trend</th>\n",
       "    </tr>\n",
       "  </thead>\n",
       "  <tbody>\n",
       "    <tr>\n",
       "      <th>price</th>\n",
       "      <td>1.000000</td>\n",
       "      <td>0.300976</td>\n",
       "      <td>0.430258</td>\n",
       "      <td>0.622748</td>\n",
       "      <td>0.296041</td>\n",
       "      <td>0.054540</td>\n",
       "      <td>-0.199987</td>\n",
       "    </tr>\n",
       "    <tr>\n",
       "      <th>speed</th>\n",
       "      <td>0.300976</td>\n",
       "      <td>1.000000</td>\n",
       "      <td>0.372304</td>\n",
       "      <td>0.234760</td>\n",
       "      <td>0.189074</td>\n",
       "      <td>-0.215232</td>\n",
       "      <td>0.405438</td>\n",
       "    </tr>\n",
       "    <tr>\n",
       "      <th>hd</th>\n",
       "      <td>0.430258</td>\n",
       "      <td>0.372304</td>\n",
       "      <td>1.000000</td>\n",
       "      <td>0.777726</td>\n",
       "      <td>0.232802</td>\n",
       "      <td>-0.323222</td>\n",
       "      <td>0.577790</td>\n",
       "    </tr>\n",
       "    <tr>\n",
       "      <th>ram</th>\n",
       "      <td>0.622748</td>\n",
       "      <td>0.234760</td>\n",
       "      <td>0.777726</td>\n",
       "      <td>1.000000</td>\n",
       "      <td>0.208954</td>\n",
       "      <td>-0.181670</td>\n",
       "      <td>0.276844</td>\n",
       "    </tr>\n",
       "    <tr>\n",
       "      <th>screen</th>\n",
       "      <td>0.296041</td>\n",
       "      <td>0.189074</td>\n",
       "      <td>0.232802</td>\n",
       "      <td>0.208954</td>\n",
       "      <td>1.000000</td>\n",
       "      <td>-0.093919</td>\n",
       "      <td>0.188614</td>\n",
       "    </tr>\n",
       "    <tr>\n",
       "      <th>ads</th>\n",
       "      <td>0.054540</td>\n",
       "      <td>-0.215232</td>\n",
       "      <td>-0.323222</td>\n",
       "      <td>-0.181670</td>\n",
       "      <td>-0.093919</td>\n",
       "      <td>1.000000</td>\n",
       "      <td>-0.318553</td>\n",
       "    </tr>\n",
       "    <tr>\n",
       "      <th>trend</th>\n",
       "      <td>-0.199987</td>\n",
       "      <td>0.405438</td>\n",
       "      <td>0.577790</td>\n",
       "      <td>0.276844</td>\n",
       "      <td>0.188614</td>\n",
       "      <td>-0.318553</td>\n",
       "      <td>1.000000</td>\n",
       "    </tr>\n",
       "  </tbody>\n",
       "</table>\n",
       "</div>"
      ],
      "text/plain": [
       "           price     speed        hd       ram    screen       ads     trend\n",
       "price   1.000000  0.300976  0.430258  0.622748  0.296041  0.054540 -0.199987\n",
       "speed   0.300976  1.000000  0.372304  0.234760  0.189074 -0.215232  0.405438\n",
       "hd      0.430258  0.372304  1.000000  0.777726  0.232802 -0.323222  0.577790\n",
       "ram     0.622748  0.234760  0.777726  1.000000  0.208954 -0.181670  0.276844\n",
       "screen  0.296041  0.189074  0.232802  0.208954  1.000000 -0.093919  0.188614\n",
       "ads     0.054540 -0.215232 -0.323222 -0.181670 -0.093919  1.000000 -0.318553\n",
       "trend  -0.199987  0.405438  0.577790  0.276844  0.188614 -0.318553  1.000000"
      ]
     },
     "execution_count": 5,
     "metadata": {},
     "output_type": "execute_result"
    }
   ],
   "source": [
    "computers.corr(numeric_only=True)"
   ]
  },
  {
   "cell_type": "markdown",
   "id": "f23f8639-841d-47e1-aa11-5c4e13251413",
   "metadata": {},
   "source": [
    "Best correlations to price from best to worst:  \n",
    "1) ram\n",
    "2) hd\n",
    "3) speed\n",
    "4) screen \n",
    "5) ads\n",
    "6) trend"
   ]
  },
  {
   "cell_type": "code",
   "execution_count": 6,
   "id": "571e8277-8d90-4f1a-8e05-f9bda0352742",
   "metadata": {},
   "outputs": [
    {
     "data": {
      "image/png": "[encoded data removed]",
      "text/plain": [
       "<Figure size 640x480 with 1 Axes>"
      ]
     },
     "metadata": {},
     "output_type": "display_data"
    }
   ],
   "source": [
    "computers.plot.scatter(x='ram', y='price').set_ylim(0);"
   ]
  },
  {
   "cell_type": "code",
   "execution_count": null,
   "id": "d856430f-a630-4961-a824-21d5d122247e",
   "metadata": {},
   "outputs": [],
   "source": []
  },
  {
   "cell_type": "code",
   "execution_count": null,
   "id": "1e84f7af-e934-40e0-9647-ebe05170a92e",
   "metadata": {},
   "outputs": [],
   "source": []
  },
  {
   "cell_type": "code",
   "execution_count": null,
   "id": "96b848e6-7b71-43cc-a84c-cd51fe61468a",
   "metadata": {},
   "outputs": [],
   "source": []
  },
  {
   "cell_type": "code",
   "execution_count": null,
   "id": "8245dd42",
   "metadata": {},
   "outputs": [],
   "source": []
  },
  {
   "cell_type": "markdown",
   "id": "66721d30",
   "metadata": {},
   "source": [
    "### Model Fitting"
   ]
  },
  {
   "cell_type": "code",
   "execution_count": 7,
   "id": "edff5d01",
   "metadata": {},
   "outputs": [
    {
     "data": {
      "text/html": [
       "<table class=\"simpletable\">\n",
       "<caption>OLS Regression Results</caption>\n",
       "<tr>\n",
       "  <th>Dep. Variable:</th>          <td>price</td>      <th>  R-squared:         </th> <td>   0.388</td> \n",
       "</tr>\n",
       "<tr>\n",
       "  <th>Model:</th>                   <td>OLS</td>       <th>  Adj. R-squared:    </th> <td>   0.388</td> \n",
       "</tr>\n",
       "<tr>\n",
       "  <th>Method:</th>             <td>Least Squares</td>  <th>  F-statistic:       </th> <td>   3964.</td> \n",
       "</tr>\n",
       "<tr>\n",
       "  <th>Date:</th>             <td>Mon, 06 Oct 2025</td> <th>  Prob (F-statistic):</th>  <td>  0.00</td>  \n",
       "</tr>\n",
       "<tr>\n",
       "  <th>Time:</th>                 <td>22:00:57</td>     <th>  Log-Likelihood:    </th> <td> -47180.</td> \n",
       "</tr>\n",
       "<tr>\n",
       "  <th>No. Observations:</th>      <td>  6259</td>      <th>  AIC:               </th> <td>9.436e+04</td>\n",
       "</tr>\n",
       "<tr>\n",
       "  <th>Df Residuals:</th>          <td>  6257</td>      <th>  BIC:               </th> <td>9.438e+04</td>\n",
       "</tr>\n",
       "<tr>\n",
       "  <th>Df Model:</th>              <td>     1</td>      <th>                     </th>     <td> </td>    \n",
       "</tr>\n",
       "<tr>\n",
       "  <th>Covariance Type:</th>      <td>nonrobust</td>    <th>                     </th>     <td> </td>    \n",
       "</tr>\n",
       "</table>\n",
       "<table class=\"simpletable\">\n",
       "<tr>\n",
       "    <td></td>       <th>coef</th>     <th>std err</th>      <th>t</th>      <th>P>|t|</th>  <th>[0.025</th>    <th>0.975]</th>  \n",
       "</tr>\n",
       "<tr>\n",
       "  <th>const</th> <td> 1687.2925</td> <td>   10.221</td> <td>  165.073</td> <td> 0.000</td> <td> 1667.255</td> <td> 1707.330</td>\n",
       "</tr>\n",
       "<tr>\n",
       "  <th>ram</th>   <td>   64.2316</td> <td>    1.020</td> <td>   62.959</td> <td> 0.000</td> <td>   62.232</td> <td>   66.232</td>\n",
       "</tr>\n",
       "</table>\n",
       "<table class=\"simpletable\">\n",
       "<tr>\n",
       "  <th>Omnibus:</th>       <td>1327.783</td> <th>  Durbin-Watson:     </th> <td>   1.533</td>\n",
       "</tr>\n",
       "<tr>\n",
       "  <th>Prob(Omnibus):</th>  <td> 0.000</td>  <th>  Jarque-Bera (JB):  </th> <td>3113.140</td>\n",
       "</tr>\n",
       "<tr>\n",
       "  <th>Skew:</th>           <td> 1.188</td>  <th>  Prob(JB):          </th> <td>    0.00</td>\n",
       "</tr>\n",
       "<tr>\n",
       "  <th>Kurtosis:</th>       <td> 5.508</td>  <th>  Cond. No.          </th> <td>    17.9</td>\n",
       "</tr>\n",
       "</table><br/><br/>Notes:<br/>[1] Standard Errors assume that the covariance matrix of the errors is correctly specified."
      ],
      "text/latex": [
       "\\begin{center}\n",
       "\\begin{tabular}{lclc}\n",
       "\\toprule\n",
       "\\textbf{Dep. Variable:}    &      price       & \\textbf{  R-squared:         } &     0.388   \\\\\n",
       "\\textbf{Model:}            &       OLS        & \\textbf{  Adj. R-squared:    } &     0.388   \\\\\n",
       "\\textbf{Method:}           &  Least Squares   & \\textbf{  F-statistic:       } &     3964.   \\\\\n",
       "\\textbf{Date:}             & Mon, 06 Oct 2025 & \\textbf{  Prob (F-statistic):} &     0.00    \\\\\n",
       "\\textbf{Time:}             &     22:00:57     & \\textbf{  Log-Likelihood:    } &   -47180.   \\\\\n",
       "\\textbf{No. Observations:} &        6259      & \\textbf{  AIC:               } & 9.436e+04   \\\\\n",
       "\\textbf{Df Residuals:}     &        6257      & \\textbf{  BIC:               } & 9.438e+04   \\\\\n",
       "\\textbf{Df Model:}         &           1      & \\textbf{                     } &             \\\\\n",
       "\\textbf{Covariance Type:}  &    nonrobust     & \\textbf{                     } &             \\\\\n",
       "\\bottomrule\n",
       "\\end{tabular}\n",
       "\\begin{tabular}{lcccccc}\n",
       "               & \\textbf{coef} & \\textbf{std err} & \\textbf{t} & \\textbf{P$> |$t$|$} & \\textbf{[0.025} & \\textbf{0.975]}  \\\\\n",
       "\\midrule\n",
       "\\textbf{const} &    1687.2925  &       10.221     &   165.073  &         0.000        &     1667.255    &     1707.330     \\\\\n",
       "\\textbf{ram}   &      64.2316  &        1.020     &    62.959  &         0.000        &       62.232    &       66.232     \\\\\n",
       "\\bottomrule\n",
       "\\end{tabular}\n",
       "\\begin{tabular}{lclc}\n",
       "\\textbf{Omnibus:}       & 1327.783 & \\textbf{  Durbin-Watson:     } &    1.533  \\\\\n",
       "\\textbf{Prob(Omnibus):} &   0.000  & \\textbf{  Jarque-Bera (JB):  } & 3113.140  \\\\\n",
       "\\textbf{Skew:}          &   1.188  & \\textbf{  Prob(JB):          } &     0.00  \\\\\n",
       "\\textbf{Kurtosis:}      &   5.508  & \\textbf{  Cond. No.          } &     17.9  \\\\\n",
       "\\bottomrule\n",
       "\\end{tabular}\n",
       "%\\caption{OLS Regression Results}\n",
       "\\end{center}\n",
       "\n",
       "Notes: \\newline\n",
       " [1] Standard Errors assume that the covariance matrix of the errors is correctly specified."
      ],
      "text/plain": [
       "<class 'statsmodels.iolib.summary.Summary'>\n",
       "\"\"\"\n",
       "                            OLS Regression Results                            \n",
       "==============================================================================\n",
       "Dep. Variable:                  price   R-squared:                       0.388\n",
       "Model:                            OLS   Adj. R-squared:                  0.388\n",
       "Method:                 Least Squares   F-statistic:                     3964.\n",
       "Date:                Mon, 06 Oct 2025   Prob (F-statistic):               0.00\n",
       "Time:                        22:00:57   Log-Likelihood:                -47180.\n",
       "No. Observations:                6259   AIC:                         9.436e+04\n",
       "Df Residuals:                    6257   BIC:                         9.438e+04\n",
       "Df Model:                           1                                         \n",
       "Covariance Type:            nonrobust                                         \n",
       "==============================================================================\n",
       "                 coef    std err          t      P>|t|      [0.025      0.975]\n",
       "------------------------------------------------------------------------------\n",
       "const       1687.2925     10.221    165.073      0.000    1667.255    1707.330\n",
       "ram           64.2316      1.020     62.959      0.000      62.232      66.232\n",
       "==============================================================================\n",
       "Omnibus:                     1327.783   Durbin-Watson:                   1.533\n",
       "Prob(Omnibus):                  0.000   Jarque-Bera (JB):             3113.140\n",
       "Skew:                           1.188   Prob(JB):                         0.00\n",
       "Kurtosis:                       5.508   Cond. No.                         17.9\n",
       "==============================================================================\n",
       "\n",
       "Notes:\n",
       "[1] Standard Errors assume that the covariance matrix of the errors is correctly specified.\n",
       "\"\"\""
      ]
     },
     "execution_count": 7,
     "metadata": {},
     "output_type": "execute_result"
    }
   ],
   "source": [
    "import statsmodels.api as sm\n",
    "\n",
    "X = sm.add_constant(computers['ram'])\n",
    "y = computers['price']\n",
    "\n",
    "model = sm.OLS(y, X).fit()\n",
    "model.summary()"
   ]
  },
  {
   "cell_type": "markdown",
   "id": "bf7e2a18",
   "metadata": {},
   "source": [
    "### Intepretation:\n"
   ]
  },
  {
   "cell_type": "markdown",
   "id": "8728feff-bfe3-4b7f-b64f-e7d75b1d33b0",
   "metadata": {},
   "source": [
    "If computer did not have any ram, then the price would be **1687.2925**.  \n",
    "For each MG increase in ram, we can expect to see a **64.2316** dollar increase in the price of a computer."
   ]
  },
  {
   "cell_type": "markdown",
   "id": "96ca08e0",
   "metadata": {},
   "source": [
    "### Plot Residuals"
   ]
  },
  {
   "cell_type": "code",
   "execution_count": 10,
   "id": "5331b0ef",
   "metadata": {},
   "outputs": [
    {
     "data": {
      "image/png": "[encoded data removed]",
      "text/plain": [
       "<Figure size 640x480 with 1 Axes>"
      ]
     },
     "metadata": {},
     "output_type": "display_data"
    }
   ],
   "source": [
    "sns.scatterplot(x=model.predict(), y=model.resid);"
   ]
  },
  {
   "cell_type": "markdown",
   "id": "7580612e",
   "metadata": {},
   "source": [
    "### Make Predictions with the values below"
   ]
  },
  {
   "cell_type": "code",
   "execution_count": 11,
   "id": "9731c750",
   "metadata": {},
   "outputs": [],
   "source": [
    "feature_values = [0, 2, 4, 8, 16, 32, 64] # represent various values a ram could be."
   ]
  },
  {
   "cell_type": "code",
   "execution_count": 12,
   "id": "5eef7de0-eaeb-47c5-986e-ee5a7271ebe0",
   "metadata": {},
   "outputs": [
    {
     "data": {
      "text/html": [
       "<div>\n",
       "<style scoped>\n",
       "    .dataframe tbody tr th:only-of-type {\n",
       "        vertical-align: middle;\n",
       "    }\n",
       "\n",
       "    .dataframe tbody tr th {\n",
       "        vertical-align: top;\n",
       "    }\n",
       "\n",
       "    .dataframe thead th {\n",
       "        text-align: right;\n",
       "    }\n",
       "</style>\n",
       "<table border=\"1\" class=\"dataframe\">\n",
       "  <thead>\n",
       "    <tr style=\"text-align: right;\">\n",
       "      <th></th>\n",
       "      <th>const</th>\n",
       "      <th>ram</th>\n",
       "    </tr>\n",
       "  </thead>\n",
       "  <tbody>\n",
       "    <tr>\n",
       "      <th>0</th>\n",
       "      <td>1.0</td>\n",
       "      <td>0</td>\n",
       "    </tr>\n",
       "    <tr>\n",
       "      <th>1</th>\n",
       "      <td>1.0</td>\n",
       "      <td>2</td>\n",
       "    </tr>\n",
       "    <tr>\n",
       "      <th>2</th>\n",
       "      <td>1.0</td>\n",
       "      <td>4</td>\n",
       "    </tr>\n",
       "    <tr>\n",
       "      <th>3</th>\n",
       "      <td>1.0</td>\n",
       "      <td>8</td>\n",
       "    </tr>\n",
       "    <tr>\n",
       "      <th>4</th>\n",
       "      <td>1.0</td>\n",
       "      <td>16</td>\n",
       "    </tr>\n",
       "    <tr>\n",
       "      <th>5</th>\n",
       "      <td>1.0</td>\n",
       "      <td>32</td>\n",
       "    </tr>\n",
       "    <tr>\n",
       "      <th>6</th>\n",
       "      <td>1.0</td>\n",
       "      <td>64</td>\n",
       "    </tr>\n",
       "  </tbody>\n",
       "</table>\n",
       "</div>"
      ],
      "text/plain": [
       "   const  ram\n",
       "0    1.0    0\n",
       "1    1.0    2\n",
       "2    1.0    4\n",
       "3    1.0    8\n",
       "4    1.0   16\n",
       "5    1.0   32\n",
       "6    1.0   64"
      ]
     },
     "execution_count": 12,
     "metadata": {},
     "output_type": "execute_result"
    }
   ],
   "source": [
    "predict_df = sm.add_constant(pd.DataFrame({'ram': feature_values}))\n",
    "predict_df"
   ]
  },
  {
   "cell_type": "code",
   "execution_count": 13,
   "id": "33774e7e-4c23-4d0d-a972-2b4a8ec3e4e5",
   "metadata": {},
   "outputs": [
    {
     "data": {
      "text/plain": [
       "0    1687.292537\n",
       "1    1815.755790\n",
       "2    1944.219043\n",
       "3    2201.145550\n",
       "4    2714.998564\n",
       "5    3742.704591\n",
       "6    5798.116644\n",
       "dtype: float64"
      ]
     },
     "execution_count": 13,
     "metadata": {},
     "output_type": "execute_result"
    }
   ],
   "source": [
    "model.predict(predict_df)"
   ]
  },
  {
   "cell_type": "markdown",
   "id": "c42caf21-f82d-4b0f-8480-38f6b92ee920",
   "metadata": {},
   "source": [
    "ram of 0 - 1687.292537  \n",
    "ram of 2 - 1815.755790  \n",
    "ram of 4 - 1944.219043  \n",
    "ram of 8 - 2201.145550  \n",
    "ram of 16 - 2714.998564  \n",
    "ram of 32 - 3742.704591  \n",
    "ram of 64 - 5798.116644  "
   ]
  },
  {
   "cell_type": "code",
   "execution_count": 14,
   "id": "c5d3560d-67d6-4317-9ede-83413286be02",
   "metadata": {},
   "outputs": [
    {
     "data": {
      "text/plain": [
       "0     1687.292537\n",
       "2     1815.755790\n",
       "4     1944.219043\n",
       "8     2201.145550\n",
       "16    2714.998564\n",
       "32    3742.704591\n",
       "64    5798.116644\n",
       "dtype: float64"
      ]
     },
     "execution_count": 14,
     "metadata": {},
     "output_type": "execute_result"
    }
   ],
   "source": [
    "predictions = model.predict(predict_df)\n",
    "predictions.index = feature_values\n",
    "predictions"
   ]
  },
  {
   "cell_type": "code",
   "execution_count": null,
   "id": "f327fa14-9865-4da0-a3cf-e205d8f9fbb6",
   "metadata": {},
   "outputs": [],
   "source": []
  }
 ],
 "metadata": {
  "kernelspec": {
   "display_name": "Python [conda env:base] *",
   "language": "python",
   "name": "conda-base-py"
  },
  "language_info": {
   "codemirror_mode": {
    "name": "ipython",
    "version": 3
   },
   "file_extension": ".py",
   "mimetype": "text/x-python",
   "name": "python",
   "nbconvert_exporter": "python",
   "pygments_lexer": "ipython3",
   "version": "3.12.7"
  }
 },
 "nbformat": 4,
 "nbformat_minor": 5
}
